{
 "cells": [
  {
   "cell_type": "markdown",
   "metadata": {},
   "source": [
    "# MIE1624 Assignment 2\n",
    "#### Author: Tiana Wei 1004698216\n",
    "#### Date: Nov. 2, 2020\n",
    "\n",
    "\n",
    "## Data Analysis Walk Through\n",
    "### 1. Feature engineering\n",
    "Data exploration, data cleaning, handle missing values\n",
    "\n",
    "### 2. Feature selection\n",
    "Recursive feature elimination to select the top 10 most informative features.\n",
    "\n",
    "### 3.+ 4. Model Implementation + hyperprameter tuning\n",
    "#### - 10-fold cross validation mean and variance of model accuracy. \n",
    "#### - Hyperparameter tuning to find the optimal model.\n",
    "#### - Bias-variance trade-off justification of the optimal model\n",
    "\n",
    "### 5. Testing and Discussion\n",
    "Optimal model performance on training and test data and discussion on the overall fit\n",
    "    "
   ]
  },
  {
   "cell_type": "code",
   "execution_count": 1,
   "metadata": {},
   "outputs": [],
   "source": [
    "import pandas as pd\n",
    "import numpy as np\n",
    "\n",
    "from sklearn.preprocessing import StandardScaler\n",
    "from sklearn.linear_model import LogisticRegression\n",
    "from sklearn.model_selection import train_test_split\n",
    "from sklearn.model_selection import KFold, cross_val_score, StratifiedKFold\n",
    "from sklearn.metrics import make_scorer, confusion_matrix, r2_score\n",
    "from sklearn.metrics import mean_squared_error, mean_absolute_error\n",
    "from sklearn.metrics import classification\n",
    "from sklearn.model_selection import learning_curve\n",
    "import matplotlib.pyplot as plt\n",
    "import seaborn as sns\n",
    "\n",
    "from sklearn.datasets import make_friedman1\n",
    "from sklearn.feature_selection import RFE, RFECV\n",
    "from sklearn.svm import SVR\n",
    "\n",
    "from sklearn.model_selection import GridSearchCV\n",
    "from sklearn.tree import DecisionTreeClassifier\n",
    "\n",
    "# suppress chained assignment warning for the following for loop assignment\n",
    "pd.options.mode.chained_assignment = None  # default='warn'\n"
   ]
  },
  {
   "cell_type": "code",
   "execution_count": 2,
   "metadata": {},
   "outputs": [],
   "source": [
    "df = pd.read_csv(\"Kaggle_Salary.csv\", low_memory = False)"
   ]
  },
  {
   "cell_type": "markdown",
   "metadata": {},
   "source": [
    "# (1) Exploratory data analysis and data cleaning"
   ]
  },
  {
   "cell_type": "code",
   "execution_count": 3,
   "metadata": {},
   "outputs": [],
   "source": [
    "# drop all the columns with more than 80% of NA since those columns are unlikely to be a useful predictor.\n",
    "df = df.dropna(thresh = len(df)*0.2, axis = 1)"
   ]
  },
  {
   "cell_type": "code",
   "execution_count": 4,
   "metadata": {},
   "outputs": [],
   "source": [
    "# drop the column for survey time (not useful in predicting salary)\n",
    "df = df.drop('Time from Start to Finish (seconds)', axis = 1)"
   ]
  },
  {
   "cell_type": "code",
   "execution_count": 5,
   "metadata": {},
   "outputs": [],
   "source": [
    "# drop columns for the choice 'None' in multiple choice questions\n",
    "#df = df[df.columns[(df.iloc[0,].str.endswith('None') == False) | (df.iloc[0,].str.endswith('None').isnull())]]"
   ]
  },
  {
   "cell_type": "code",
   "execution_count": 6,
   "metadata": {},
   "outputs": [],
   "source": [
    "# drop all the columns whose names end in \"_TEXT\" since these columns \n",
    "# do not give use extra information to the choices under each question\n",
    "df = df[df.columns[~df.columns.str.endswith('_TEXT')]]"
   ]
  },
  {
   "cell_type": "code",
   "execution_count": 7,
   "metadata": {},
   "outputs": [],
   "source": [
    "# drop the row for question text for the ease of plotting later on\n",
    "df = df.drop([0]).reset_index(drop = True)"
   ]
  },
  {
   "cell_type": "markdown",
   "metadata": {},
   "source": [
    "## For all the multiple choice questions, transform them into one-hot encoding for now and use feature selection to eliminate non-useful choices later on."
   ]
  },
  {
   "cell_type": "code",
   "execution_count": 8,
   "metadata": {},
   "outputs": [
    {
     "data": {
      "text/plain": [
       "[9, 12, 13, 16, 17, 18, 19, 20, 21, 24, 25, 26, 27, 28, 29, 30, 31, 32, 33, 34]"
      ]
     },
     "execution_count": 8,
     "metadata": {},
     "output_type": "execute_result"
    }
   ],
   "source": [
    "# Question numbers that are multiple choice questions\n",
    "multi_choiceQs = [9,12,13]+list(range(16,22))+list(range(24,35))\n",
    "multi_choiceQs"
   ]
  },
  {
   "cell_type": "code",
   "execution_count": 9,
   "metadata": {},
   "outputs": [],
   "source": [
    "# create a dictionary that holds all the columns under each multiple choice question\n",
    "name = {}\n",
    "for i in range(len(multi_choiceQs)):\n",
    "    name['Q'+ str(multi_choiceQs[i])+'_columns'] = [col for col in df if col.startswith('Q'+ str(multi_choiceQs[i]))]"
   ]
  },
  {
   "cell_type": "code",
   "execution_count": 10,
   "metadata": {},
   "outputs": [],
   "source": [
    "# assign one-hot encoding to each columns under each multiple question\n",
    "for i in name:\n",
    "    for x in name[i]:\n",
    "        df.loc[df[x].notnull(),x] = 1\n",
    "        df.loc[df[x].isnull(),x] = 0"
   ]
  },
  {
   "cell_type": "markdown",
   "metadata": {},
   "source": [
    "## For all the non-multiple choice questions, take the following steps for feature engineering:\n",
    "\n",
    "#### (1) Explore each question's relation to the encoded salary.\n",
    "\n",
    "#### (2) Handle missing values:\n",
    "    a. If very few missing value, remove the datapoints (rows) with missing values.\n",
    "    b. If there is a considerable number of missing value, inspect relation between the datapoints with missing values and salary compared to the relation between datapoints without missing values and salary. If the datapoints with and without missing values have the same trend, replace the missing values with the mode. Otherwise, drop the rows with missing values. \n",
    "    \n",
    "#### (3) Convert categorical data that contain ordinal values into numerical data by encoding.\n",
    "\n",
    "#### (4) For the nominal data that make no sense to be encoded as numerical data: \n",
    "#### Based on observed patterns from (1), group bins into bigger buckets if possible to reduce the cost of dummy coding.\n",
    "\n",
    "#### (5) Drop some categories with few responses under each question to reduce the cost of dummy coding.\n",
    "\n",
    "#### (6) For the variables that have no logic in further grouping or dropping, I will one-hot code all choices for now and leave them for feature selection later on."
   ]
  },
  {
   "cell_type": "markdown",
   "metadata": {},
   "source": [
    "### Age and salary"
   ]
  },
  {
   "cell_type": "code",
   "execution_count": 11,
   "metadata": {},
   "outputs": [
    {
     "data": {
      "text/plain": [
       "<AxesSubplot:xlabel='Q1', ylabel='Q10_Encoded'>"
      ]
     },
     "execution_count": 11,
     "metadata": {},
     "output_type": "execute_result"
    },
    {
     "data": {
      "image/png": "[encoded data removed]",
      "text/plain": [
       "<Figure size 1080x720 with 1 Axes>"
      ]
     },
     "metadata": {
      "needs_background": "light"
     },
     "output_type": "display_data"
    }
   ],
   "source": [
    "# plot age and salary\n",
    "plt.figure(figsize=(15,10))\n",
    "sns.boxplot(x='Q1', y='Q10_Encoded', data=df.sort_values('Q1'))"
   ]
  },
  {
   "cell_type": "markdown",
   "metadata": {},
   "source": [
    "We can see that there is a trend of increasing salary with increasing age. Since age contains an inherent order, we can encode the age groups as numbers 0~10."
   ]
  },
  {
   "cell_type": "code",
   "execution_count": 12,
   "metadata": {},
   "outputs": [
    {
     "data": {
      "text/html": [
       "<div>\n",
       "<style scoped>\n",
       "    .dataframe tbody tr th:only-of-type {\n",
       "        vertical-align: middle;\n",
       "    }\n",
       "\n",
       "    .dataframe tbody tr th {\n",
       "        vertical-align: top;\n",
       "    }\n",
       "\n",
       "    .dataframe thead th {\n",
       "        text-align: right;\n",
       "    }\n",
       "</style>\n",
       "<table border=\"1\" class=\"dataframe\">\n",
       "  <thead>\n",
       "    <tr style=\"text-align: right;\">\n",
       "      <th></th>\n",
       "      <th>Q1</th>\n",
       "      <th>Q2</th>\n",
       "      <th>Q3</th>\n",
       "      <th>Q4</th>\n",
       "      <th>Q5</th>\n",
       "      <th>Q6</th>\n",
       "      <th>Q7</th>\n",
       "      <th>Q8</th>\n",
       "      <th>Q9_Part_1</th>\n",
       "      <th>Q9_Part_2</th>\n",
       "      <th>...</th>\n",
       "      <th>Q28_Part_5</th>\n",
       "      <th>Q28_Part_6</th>\n",
       "      <th>Q29_Part_2</th>\n",
       "      <th>Q30_Part_11</th>\n",
       "      <th>Q31_Part_11</th>\n",
       "      <th>Q32_Part_11</th>\n",
       "      <th>Q33_Part_11</th>\n",
       "      <th>Q34_Part_1</th>\n",
       "      <th>Q10_Encoded</th>\n",
       "      <th>Q10_buckets</th>\n",
       "    </tr>\n",
       "  </thead>\n",
       "  <tbody>\n",
       "  </tbody>\n",
       "</table>\n",
       "<p>0 rows × 69 columns</p>\n",
       "</div>"
      ],
      "text/plain": [
       "Empty DataFrame\n",
       "Columns: [Q1, Q2, Q3, Q4, Q5, Q6, Q7, Q8, Q9_Part_1, Q9_Part_2, Q9_Part_3, Q9_Part_4, Q9_Part_5, Q10, Q11, Q12_Part_1, Q12_Part_4, Q12_Part_5, Q12_Part_6, Q12_Part_8, Q12_Part_9, Q13_Part_2, Q13_Part_4, Q13_Part_6, Q13_Part_8, Q13_Part_10, Q14, Q15, Q16_Part_1, Q16_Part_2, Q16_Part_3, Q16_Part_6, Q16_Part_9, Q17_Part_1, Q17_Part_2, Q17_Part_11, Q18_Part_1, Q18_Part_2, Q18_Part_3, Q19, Q20_Part_1, Q20_Part_2, Q20_Part_6, Q20_Part_8, Q21_Part_1, Q21_Part_2, Q22, Q23, Q24_Part_1, Q24_Part_2, Q24_Part_3, Q24_Part_4, Q24_Part_7, Q24_Part_9, Q25_Part_7, Q28_Part_1, Q28_Part_2, Q28_Part_3, Q28_Part_4, Q28_Part_5, Q28_Part_6, Q29_Part_2, Q30_Part_11, Q31_Part_11, Q32_Part_11, Q33_Part_11, Q34_Part_1, Q10_Encoded, Q10_buckets]\n",
       "Index: []\n",
       "\n",
       "[0 rows x 69 columns]"
      ]
     },
     "execution_count": 12,
     "metadata": {},
     "output_type": "execute_result"
    }
   ],
   "source": [
    "# check no missing data\n",
    "df[df['Q1'].isnull()]"
   ]
  },
  {
   "cell_type": "code",
   "execution_count": 13,
   "metadata": {},
   "outputs": [],
   "source": [
    "# encode each age range as numerical data\n",
    "age_encode = {\n",
    "    '18-21': 0,\n",
    "    '22-24': 1,\n",
    "    '25-29': 2,\n",
    "    '30-34': 3,\n",
    "    '35-39': 4,\n",
    "    '40-44': 5,\n",
    "    '45-49': 6,\n",
    "    '50-54': 7,\n",
    "    '55-59': 8,\n",
    "    '60-69': 9,\n",
    "    '70+': 10\n",
    "}\n",
    "# map the encoding onto a new column called Q1_Encoded\n",
    "df.loc[:,'Q1'] = df.loc[:,'Q1'].map(age_encode)"
   ]
  },
  {
   "cell_type": "code",
   "execution_count": 14,
   "metadata": {},
   "outputs": [
    {
     "data": {
      "text/plain": [
       "<AxesSubplot:xlabel='Q1', ylabel='Q10_Encoded'>"
      ]
     },
     "execution_count": 14,
     "metadata": {},
     "output_type": "execute_result"
    },
    {
     "data": {
      "image/png": "[encoded data removed]",
      "text/plain": [
       "<Figure size 432x288 with 1 Axes>"
      ]
     },
     "metadata": {
      "needs_background": "light"
     },
     "output_type": "display_data"
    }
   ],
   "source": [
    "sns.lineplot(data=df,\n",
    "            x=\"Q1\",\n",
    "            y=\"Q10_Encoded\")"
   ]
  },
  {
   "cell_type": "markdown",
   "metadata": {},
   "source": [
    "We can see a clear trend of increased salary with increased age untill age 60-69 (encoded as 9)."
   ]
  },
  {
   "cell_type": "markdown",
   "metadata": {},
   "source": [
    "### Gender and salary"
   ]
  },
  {
   "cell_type": "code",
   "execution_count": 15,
   "metadata": {},
   "outputs": [
    {
     "data": {
      "text/plain": [
       "Q2\n",
       "Female                      1827\n",
       "Male                       10473\n",
       "Prefer not to say            167\n",
       "Prefer to self-describe       30\n",
       "dtype: int64"
      ]
     },
     "execution_count": 15,
     "metadata": {},
     "output_type": "execute_result"
    }
   ],
   "source": [
    "df.groupby('Q2').size()"
   ]
  },
  {
   "cell_type": "code",
   "execution_count": 16,
   "metadata": {},
   "outputs": [],
   "source": [
    "# since very few other answers, only take male or female response\n",
    "df = df[(df['Q2'] == 'Male') | (df['Q2'] == 'Female')]"
   ]
  },
  {
   "cell_type": "code",
   "execution_count": 17,
   "metadata": {},
   "outputs": [
    {
     "data": {
      "text/plain": [
       "<AxesSubplot:xlabel='Q2', ylabel='Q10_Encoded'>"
      ]
     },
     "execution_count": 17,
     "metadata": {},
     "output_type": "execute_result"
    },
    {
     "data": {
      "image/png": "[encoded data removed]",
      "text/plain": [
       "<Figure size 720x360 with 1 Axes>"
      ]
     },
     "metadata": {
      "needs_background": "light"
     },
     "output_type": "display_data"
    }
   ],
   "source": [
    "# plot gender and salary\n",
    "plt.figure(figsize=(10,5))\n",
    "sns.boxplot(x='Q2', y='Q10_Encoded', data=df)"
   ]
  },
  {
   "cell_type": "markdown",
   "metadata": {},
   "source": [
    "Male's salary seems to be higher than female on average. Though without statistical significance, gender can be a useful predictor for salary."
   ]
  },
  {
   "cell_type": "code",
   "execution_count": 18,
   "metadata": {},
   "outputs": [],
   "source": [
    "# dummy code\n",
    "df = pd.get_dummies(data=df, columns=['Q2'])"
   ]
  },
  {
   "cell_type": "markdown",
   "metadata": {},
   "source": [
    "## country and salary"
   ]
  },
  {
   "cell_type": "code",
   "execution_count": 19,
   "metadata": {},
   "outputs": [],
   "source": [
    "# look at all possible answers\n",
    "#df.groupby('Q3').size()"
   ]
  },
  {
   "cell_type": "code",
   "execution_count": 20,
   "metadata": {},
   "outputs": [],
   "source": [
    "# drop columns with other countries since we don't know what composed the other countries\n",
    "df = df[df['Q3'] != 'Other'].reset_index(drop = True)"
   ]
  },
  {
   "cell_type": "code",
   "execution_count": 21,
   "metadata": {},
   "outputs": [
    {
     "data": {
      "text/html": [
       "<div>\n",
       "<style scoped>\n",
       "    .dataframe tbody tr th:only-of-type {\n",
       "        vertical-align: middle;\n",
       "    }\n",
       "\n",
       "    .dataframe tbody tr th {\n",
       "        vertical-align: top;\n",
       "    }\n",
       "\n",
       "    .dataframe thead th {\n",
       "        text-align: right;\n",
       "    }\n",
       "</style>\n",
       "<table border=\"1\" class=\"dataframe\">\n",
       "  <thead>\n",
       "    <tr style=\"text-align: right;\">\n",
       "      <th></th>\n",
       "      <th>Q1</th>\n",
       "      <th>Q3</th>\n",
       "      <th>Q4</th>\n",
       "      <th>Q5</th>\n",
       "      <th>Q6</th>\n",
       "      <th>Q7</th>\n",
       "      <th>Q8</th>\n",
       "      <th>Q9_Part_1</th>\n",
       "      <th>Q9_Part_2</th>\n",
       "      <th>Q9_Part_3</th>\n",
       "      <th>...</th>\n",
       "      <th>Q29_Part_2</th>\n",
       "      <th>Q30_Part_11</th>\n",
       "      <th>Q31_Part_11</th>\n",
       "      <th>Q32_Part_11</th>\n",
       "      <th>Q33_Part_11</th>\n",
       "      <th>Q34_Part_1</th>\n",
       "      <th>Q10_Encoded</th>\n",
       "      <th>Q10_buckets</th>\n",
       "      <th>Q2_Female</th>\n",
       "      <th>Q2_Male</th>\n",
       "    </tr>\n",
       "  </thead>\n",
       "  <tbody>\n",
       "  </tbody>\n",
       "</table>\n",
       "<p>0 rows × 70 columns</p>\n",
       "</div>"
      ],
      "text/plain": [
       "Empty DataFrame\n",
       "Columns: [Q1, Q3, Q4, Q5, Q6, Q7, Q8, Q9_Part_1, Q9_Part_2, Q9_Part_3, Q9_Part_4, Q9_Part_5, Q10, Q11, Q12_Part_1, Q12_Part_4, Q12_Part_5, Q12_Part_6, Q12_Part_8, Q12_Part_9, Q13_Part_2, Q13_Part_4, Q13_Part_6, Q13_Part_8, Q13_Part_10, Q14, Q15, Q16_Part_1, Q16_Part_2, Q16_Part_3, Q16_Part_6, Q16_Part_9, Q17_Part_1, Q17_Part_2, Q17_Part_11, Q18_Part_1, Q18_Part_2, Q18_Part_3, Q19, Q20_Part_1, Q20_Part_2, Q20_Part_6, Q20_Part_8, Q21_Part_1, Q21_Part_2, Q22, Q23, Q24_Part_1, Q24_Part_2, Q24_Part_3, Q24_Part_4, Q24_Part_7, Q24_Part_9, Q25_Part_7, Q28_Part_1, Q28_Part_2, Q28_Part_3, Q28_Part_4, Q28_Part_5, Q28_Part_6, Q29_Part_2, Q30_Part_11, Q31_Part_11, Q32_Part_11, Q33_Part_11, Q34_Part_1, Q10_Encoded, Q10_buckets, Q2_Female, Q2_Male]\n",
       "Index: []\n",
       "\n",
       "[0 rows x 70 columns]"
      ]
     },
     "execution_count": 21,
     "metadata": {},
     "output_type": "execute_result"
    }
   ],
   "source": [
    "# check no missing data for country\n",
    "df[df.Q3.isnull()]"
   ]
  },
  {
   "cell_type": "markdown",
   "metadata": {},
   "source": [
    "Since there are too many countries, to reduce the cost of dummy coding, we can group countries according to the world regions."
   ]
  },
  {
   "cell_type": "code",
   "execution_count": 22,
   "metadata": {},
   "outputs": [
    {
     "data": {
      "text/html": [
       "<div>\n",
       "<style scoped>\n",
       "    .dataframe tbody tr th:only-of-type {\n",
       "        vertical-align: middle;\n",
       "    }\n",
       "\n",
       "    .dataframe tbody tr th {\n",
       "        vertical-align: top;\n",
       "    }\n",
       "\n",
       "    .dataframe thead th {\n",
       "        text-align: right;\n",
       "    }\n",
       "</style>\n",
       "<table border=\"1\" class=\"dataframe\">\n",
       "  <thead>\n",
       "    <tr style=\"text-align: right;\">\n",
       "      <th></th>\n",
       "      <th>Q1</th>\n",
       "      <th>Q3</th>\n",
       "      <th>Q4</th>\n",
       "      <th>Q5</th>\n",
       "      <th>Q6</th>\n",
       "      <th>Q7</th>\n",
       "      <th>Q8</th>\n",
       "      <th>Q9_Part_1</th>\n",
       "      <th>Q9_Part_2</th>\n",
       "      <th>Q9_Part_3</th>\n",
       "      <th>...</th>\n",
       "      <th>Q30_Part_11</th>\n",
       "      <th>Q31_Part_11</th>\n",
       "      <th>Q32_Part_11</th>\n",
       "      <th>Q33_Part_11</th>\n",
       "      <th>Q34_Part_1</th>\n",
       "      <th>Q10_Encoded</th>\n",
       "      <th>Q10_buckets</th>\n",
       "      <th>Q2_Female</th>\n",
       "      <th>Q2_Male</th>\n",
       "      <th>world_region</th>\n",
       "    </tr>\n",
       "  </thead>\n",
       "  <tbody>\n",
       "    <tr>\n",
       "      <th>0</th>\n",
       "      <td>1</td>\n",
       "      <td>France</td>\n",
       "      <td>Master’s degree</td>\n",
       "      <td>Software Engineer</td>\n",
       "      <td>1000-9,999 employees</td>\n",
       "      <td>0</td>\n",
       "      <td>I do not know</td>\n",
       "      <td>0</td>\n",
       "      <td>0</td>\n",
       "      <td>0</td>\n",
       "      <td>...</td>\n",
       "      <td>0</td>\n",
       "      <td>0</td>\n",
       "      <td>0</td>\n",
       "      <td>0</td>\n",
       "      <td>0</td>\n",
       "      <td>3.0</td>\n",
       "      <td>30,000-39,999</td>\n",
       "      <td>0</td>\n",
       "      <td>1</td>\n",
       "      <td>EU</td>\n",
       "    </tr>\n",
       "    <tr>\n",
       "      <th>1</th>\n",
       "      <td>5</td>\n",
       "      <td>India</td>\n",
       "      <td>Professional degree</td>\n",
       "      <td>Software Engineer</td>\n",
       "      <td>&gt; 10,000 employees</td>\n",
       "      <td>20+</td>\n",
       "      <td>We have well established ML methods (i.e., mod...</td>\n",
       "      <td>1</td>\n",
       "      <td>1</td>\n",
       "      <td>1</td>\n",
       "      <td>...</td>\n",
       "      <td>0</td>\n",
       "      <td>0</td>\n",
       "      <td>0</td>\n",
       "      <td>0</td>\n",
       "      <td>0</td>\n",
       "      <td>0.0</td>\n",
       "      <td>0-9,999</td>\n",
       "      <td>0</td>\n",
       "      <td>1</td>\n",
       "      <td>Asia</td>\n",
       "    </tr>\n",
       "    <tr>\n",
       "      <th>2</th>\n",
       "      <td>5</td>\n",
       "      <td>Australia</td>\n",
       "      <td>Master’s degree</td>\n",
       "      <td>Other</td>\n",
       "      <td>&gt; 10,000 employees</td>\n",
       "      <td>20+</td>\n",
       "      <td>I do not know</td>\n",
       "      <td>0</td>\n",
       "      <td>0</td>\n",
       "      <td>0</td>\n",
       "      <td>...</td>\n",
       "      <td>0</td>\n",
       "      <td>0</td>\n",
       "      <td>0</td>\n",
       "      <td>1</td>\n",
       "      <td>0</td>\n",
       "      <td>14.0</td>\n",
       "      <td>&gt;250,000</td>\n",
       "      <td>0</td>\n",
       "      <td>1</td>\n",
       "      <td>Oceania</td>\n",
       "    </tr>\n",
       "    <tr>\n",
       "      <th>3</th>\n",
       "      <td>1</td>\n",
       "      <td>India</td>\n",
       "      <td>Bachelor’s degree</td>\n",
       "      <td>Other</td>\n",
       "      <td>0-49 employees</td>\n",
       "      <td>0</td>\n",
       "      <td>No (we do not use ML methods)</td>\n",
       "      <td>0</td>\n",
       "      <td>0</td>\n",
       "      <td>0</td>\n",
       "      <td>...</td>\n",
       "      <td>0</td>\n",
       "      <td>0</td>\n",
       "      <td>0</td>\n",
       "      <td>0</td>\n",
       "      <td>0</td>\n",
       "      <td>0.0</td>\n",
       "      <td>0-9,999</td>\n",
       "      <td>0</td>\n",
       "      <td>1</td>\n",
       "      <td>Asia</td>\n",
       "    </tr>\n",
       "    <tr>\n",
       "      <th>4</th>\n",
       "      <td>7</td>\n",
       "      <td>France</td>\n",
       "      <td>Master’s degree</td>\n",
       "      <td>Data Scientist</td>\n",
       "      <td>0-49 employees</td>\n",
       "      <td>3-4</td>\n",
       "      <td>We have well established ML methods (i.e., mod...</td>\n",
       "      <td>0</td>\n",
       "      <td>0</td>\n",
       "      <td>1</td>\n",
       "      <td>...</td>\n",
       "      <td>0</td>\n",
       "      <td>0</td>\n",
       "      <td>0</td>\n",
       "      <td>0</td>\n",
       "      <td>0</td>\n",
       "      <td>6.0</td>\n",
       "      <td>60,000-69,999</td>\n",
       "      <td>0</td>\n",
       "      <td>1</td>\n",
       "      <td>EU</td>\n",
       "    </tr>\n",
       "  </tbody>\n",
       "</table>\n",
       "<p>5 rows × 71 columns</p>\n",
       "</div>"
      ],
      "text/plain": [
       "   Q1         Q3                   Q4                 Q5  \\\n",
       "0   1     France      Master’s degree  Software Engineer   \n",
       "1   5      India  Professional degree  Software Engineer   \n",
       "2   5  Australia      Master’s degree              Other   \n",
       "3   1      India    Bachelor’s degree              Other   \n",
       "4   7     France      Master’s degree     Data Scientist   \n",
       "\n",
       "                     Q6   Q7  \\\n",
       "0  1000-9,999 employees    0   \n",
       "1    > 10,000 employees  20+   \n",
       "2    > 10,000 employees  20+   \n",
       "3        0-49 employees    0   \n",
       "4        0-49 employees  3-4   \n",
       "\n",
       "                                                  Q8 Q9_Part_1 Q9_Part_2  \\\n",
       "0                                      I do not know         0         0   \n",
       "1  We have well established ML methods (i.e., mod...         1         1   \n",
       "2                                      I do not know         0         0   \n",
       "3                      No (we do not use ML methods)         0         0   \n",
       "4  We have well established ML methods (i.e., mod...         0         0   \n",
       "\n",
       "  Q9_Part_3  ... Q30_Part_11 Q31_Part_11 Q32_Part_11 Q33_Part_11 Q34_Part_1  \\\n",
       "0         0  ...           0           0           0           0          0   \n",
       "1         1  ...           0           0           0           0          0   \n",
       "2         0  ...           0           0           0           1          0   \n",
       "3         0  ...           0           0           0           0          0   \n",
       "4         1  ...           0           0           0           0          0   \n",
       "\n",
       "  Q10_Encoded    Q10_buckets Q2_Female Q2_Male world_region  \n",
       "0         3.0  30,000-39,999         0       1           EU  \n",
       "1         0.0        0-9,999         0       1         Asia  \n",
       "2        14.0       >250,000         0       1      Oceania  \n",
       "3         0.0        0-9,999         0       1         Asia  \n",
       "4         6.0  60,000-69,999         0       1           EU  \n",
       "\n",
       "[5 rows x 71 columns]"
      ]
     },
     "execution_count": 22,
     "metadata": {},
     "output_type": "execute_result"
    }
   ],
   "source": [
    "# label countries with their world regions\n",
    "Africa = ['Nigeria','South Africa','Egypt','Morocco','Kenya','Algeria','Tunisia']\n",
    "Asia = ['India','Pakistan','Japan','South Korea','Indonesia','Hong Kong (S.A.R.)','Taiwan','Thailand',\n",
    "        'Viet Nam','Singapore','Bangladesh','China','Philippines','Malaysia','Republic of Korea']\n",
    "Middle_east = ['Israel','Iran, Islamic Republic of...','Saudi Arabia']\n",
    "Europe = ['Russia','Ukraine','Belarus','United Kingdom of Great Britain and Northern Ireland','Turkey',\n",
    "          'Switzerland','Norway']\n",
    "EU = ['France','Netherlands','Germany','Ireland','Greece','Sweden','Portugal','Poland','Italy',\n",
    "      'Czech Republic','Spain','Hungary','Romania','Belgium','Austria','Denmark']\n",
    "North_America = ['United States of America','Canada']\n",
    "Oceania = ['Australia','New Zealand']\n",
    "Central_South_America = ['Brazil','Mexico','Chile','Argentina','Colombia','Peru']\n",
    "\n",
    "# create a new column called world_region\n",
    "df['world_region'] = \"\"\n",
    "\n",
    "# loop through each region list to add to world_region\n",
    "for i in range(len(df)):\n",
    "    if df['Q3'][i] in Africa:\n",
    "        df['world_region'][i] = 'Africa'\n",
    "    elif df['Q3'][i] in Asia:\n",
    "        df['world_region'][i] = 'Asia'\n",
    "    elif df['Q3'][i] in Middle_east:\n",
    "        df['world_region'][i] = 'Middle_east'\n",
    "    elif df['Q3'][i] in Europe:\n",
    "        df['world_region'][i] = 'Europe'\n",
    "    elif df['Q3'][i] in EU:\n",
    "        df['world_region'][i] = 'EU'\n",
    "    elif df['Q3'][i] in North_America:\n",
    "        df['world_region'][i] = 'North_America'\n",
    "    elif df['Q3'][i] in Oceania:\n",
    "        df['world_region'][i] = 'Oceania'\n",
    "    else:\n",
    "        df['world_region'][i] = 'Central_South_America'\n",
    "        \n",
    "df.head()"
   ]
  },
  {
   "cell_type": "code",
   "execution_count": 23,
   "metadata": {},
   "outputs": [
    {
     "data": {
      "text/html": [
       "<div>\n",
       "<style scoped>\n",
       "    .dataframe tbody tr th:only-of-type {\n",
       "        vertical-align: middle;\n",
       "    }\n",
       "\n",
       "    .dataframe tbody tr th {\n",
       "        vertical-align: top;\n",
       "    }\n",
       "\n",
       "    .dataframe thead th {\n",
       "        text-align: right;\n",
       "    }\n",
       "</style>\n",
       "<table border=\"1\" class=\"dataframe\">\n",
       "  <thead>\n",
       "    <tr style=\"text-align: right;\">\n",
       "      <th></th>\n",
       "      <th>Q1</th>\n",
       "      <th>Q3</th>\n",
       "      <th>Q4</th>\n",
       "      <th>Q5</th>\n",
       "      <th>Q6</th>\n",
       "      <th>Q7</th>\n",
       "      <th>Q8</th>\n",
       "      <th>Q9_Part_1</th>\n",
       "      <th>Q9_Part_2</th>\n",
       "      <th>Q9_Part_3</th>\n",
       "      <th>...</th>\n",
       "      <th>Q30_Part_11</th>\n",
       "      <th>Q31_Part_11</th>\n",
       "      <th>Q32_Part_11</th>\n",
       "      <th>Q33_Part_11</th>\n",
       "      <th>Q34_Part_1</th>\n",
       "      <th>Q10_Encoded</th>\n",
       "      <th>Q10_buckets</th>\n",
       "      <th>Q2_Female</th>\n",
       "      <th>Q2_Male</th>\n",
       "      <th>world_region</th>\n",
       "    </tr>\n",
       "  </thead>\n",
       "  <tbody>\n",
       "  </tbody>\n",
       "</table>\n",
       "<p>0 rows × 71 columns</p>\n",
       "</div>"
      ],
      "text/plain": [
       "Empty DataFrame\n",
       "Columns: [Q1, Q3, Q4, Q5, Q6, Q7, Q8, Q9_Part_1, Q9_Part_2, Q9_Part_3, Q9_Part_4, Q9_Part_5, Q10, Q11, Q12_Part_1, Q12_Part_4, Q12_Part_5, Q12_Part_6, Q12_Part_8, Q12_Part_9, Q13_Part_2, Q13_Part_4, Q13_Part_6, Q13_Part_8, Q13_Part_10, Q14, Q15, Q16_Part_1, Q16_Part_2, Q16_Part_3, Q16_Part_6, Q16_Part_9, Q17_Part_1, Q17_Part_2, Q17_Part_11, Q18_Part_1, Q18_Part_2, Q18_Part_3, Q19, Q20_Part_1, Q20_Part_2, Q20_Part_6, Q20_Part_8, Q21_Part_1, Q21_Part_2, Q22, Q23, Q24_Part_1, Q24_Part_2, Q24_Part_3, Q24_Part_4, Q24_Part_7, Q24_Part_9, Q25_Part_7, Q28_Part_1, Q28_Part_2, Q28_Part_3, Q28_Part_4, Q28_Part_5, Q28_Part_6, Q29_Part_2, Q30_Part_11, Q31_Part_11, Q32_Part_11, Q33_Part_11, Q34_Part_1, Q10_Encoded, Q10_buckets, Q2_Female, Q2_Male, world_region]\n",
       "Index: []\n",
       "\n",
       "[0 rows x 71 columns]"
      ]
     },
     "execution_count": 23,
     "metadata": {},
     "output_type": "execute_result"
    }
   ],
   "source": [
    "# make sure no missing values for world region\n",
    "df[df['world_region'].isnull()]"
   ]
  },
  {
   "cell_type": "code",
   "execution_count": 24,
   "metadata": {},
   "outputs": [
    {
     "data": {
      "text/plain": [
       "<AxesSubplot:xlabel='world_region', ylabel='Q10_Encoded'>"
      ]
     },
     "execution_count": 24,
     "metadata": {},
     "output_type": "execute_result"
    },
    {
     "data": {
      "image/png": "[encoded data removed]",
      "text/plain": [
       "<Figure size 1080x720 with 1 Axes>"
      ]
     },
     "metadata": {
      "needs_background": "light"
     },
     "output_type": "display_data"
    }
   ],
   "source": [
    "plt.figure(figsize=(15,10))\n",
    "sns.boxplot(x='world_region',y='Q10_Encoded',data=df)"
   ]
  },
  {
   "cell_type": "markdown",
   "metadata": {},
   "source": [
    "Annual salaries from different world regions differ from each other. It seems that North America and Oceania countries have the highest median salary. Then, European countries and EU countires and middle east have the middle ground, while Asian, central and sount America, and Africa have the lowest median salary. To further reduce the number of categories, we can further group these 8 countries into three groups - NorthAmerica+Oceania, Europe+EU+MiddleEast, and Asia+CSAmerica+Africa."
   ]
  },
  {
   "cell_type": "code",
   "execution_count": 25,
   "metadata": {},
   "outputs": [],
   "source": [
    "for i in range(len(df)):\n",
    "    if (df['world_region'][i] == 'North_America') or (df['world_region'][i] == 'Oceania'):\n",
    "        df['world_region'][i] = 'NAmerica_Oceania'\n",
    "    elif (df['world_region'][i] == 'EU') or (df['world_region'][i] == 'Europe') or (df['world_region'][i] == 'Middle_east'):\n",
    "        df['world_region'][i] = 'Europe_MidEast'\n",
    "    else:\n",
    "        df['world_region'][i] = 'Asia_CSAmerica_Africa'\n"
   ]
  },
  {
   "cell_type": "code",
   "execution_count": 26,
   "metadata": {},
   "outputs": [
    {
     "data": {
      "text/plain": [
       "<AxesSubplot:xlabel='world_region', ylabel='Q10_Encoded'>"
      ]
     },
     "execution_count": 26,
     "metadata": {},
     "output_type": "execute_result"
    },
    {
     "data": {
      "image/png": "[encoded data removed]",
      "text/plain": [
       "<Figure size 1080x720 with 1 Axes>"
      ]
     },
     "metadata": {
      "needs_background": "light"
     },
     "output_type": "display_data"
    }
   ],
   "source": [
    "plt.figure(figsize=(15,10))\n",
    "sns.boxplot(x='world_region',y='Q10_Encoded',data=df)"
   ]
  },
  {
   "cell_type": "markdown",
   "metadata": {},
   "source": [
    "There seems to be enough salary differene between these three world region groups. Categorizing all data into these three region groups can be helpful in building a model that predicts salary."
   ]
  },
  {
   "cell_type": "code",
   "execution_count": 27,
   "metadata": {},
   "outputs": [],
   "source": [
    "## dummy code for world region\n",
    "df = pd.get_dummies(data=df, columns=['world_region'])"
   ]
  },
  {
   "cell_type": "markdown",
   "metadata": {},
   "source": [
    "## Education and salary"
   ]
  },
  {
   "cell_type": "code",
   "execution_count": 28,
   "metadata": {},
   "outputs": [
    {
     "data": {
      "text/plain": [
       "Q4\n",
       "Bachelor’s degree                                                    3155\n",
       "Doctoral degree                                                      1922\n",
       "I prefer not to answer                                                160\n",
       "Master’s degree                                                      5477\n",
       "No formal education past high school                                  110\n",
       "Professional degree                                                   434\n",
       "Some college/university study without earning a bachelor’s degree     366\n",
       "dtype: int64"
      ]
     },
     "execution_count": 28,
     "metadata": {},
     "output_type": "execute_result"
    }
   ],
   "source": [
    "# look at the number of sample for each response\n",
    "df.groupby('Q4').size()"
   ]
  },
  {
   "cell_type": "code",
   "execution_count": 29,
   "metadata": {},
   "outputs": [
    {
     "data": {
      "text/plain": [
       "<AxesSubplot:xlabel='Q10_Encoded', ylabel='Q4'>"
      ]
     },
     "execution_count": 29,
     "metadata": {},
     "output_type": "execute_result"
    },
    {
     "data": {
      "image/png": "[encoded data removed]",
      "text/plain": [
       "<Figure size 1080x720 with 1 Axes>"
      ]
     },
     "metadata": {
      "needs_background": "light"
     },
     "output_type": "display_data"
    }
   ],
   "source": [
    "plt.figure(figsize=(15,10))\n",
    "sns.boxplot(x='Q10_Encoded',y='Q4',data=df)"
   ]
  },
  {
   "cell_type": "markdown",
   "metadata": {},
   "source": [
    "It seems like the biggest differences lie between Doctoral, Master's, and Bachelor's degree. Plus, these three education groups have the most samples. We can decide to include only these three education classes."
   ]
  },
  {
   "cell_type": "code",
   "execution_count": 30,
   "metadata": {},
   "outputs": [],
   "source": [
    "df = df[(df['Q4'] == 'Bachelor’s degree') | (df['Q4'] == 'Master’s degree') | (df['Q4'] == 'Doctoral degree')].reset_index(drop = True)"
   ]
  },
  {
   "cell_type": "code",
   "execution_count": 31,
   "metadata": {},
   "outputs": [
    {
     "data": {
      "text/plain": [
       "<AxesSubplot:xlabel='Q10_Encoded', ylabel='Q4'>"
      ]
     },
     "execution_count": 31,
     "metadata": {},
     "output_type": "execute_result"
    },
    {
     "data": {
      "image/png": "[encoded data removed]",
      "text/plain": [
       "<Figure size 720x360 with 1 Axes>"
      ]
     },
     "metadata": {
      "needs_background": "light"
     },
     "output_type": "display_data"
    }
   ],
   "source": [
    "plt.figure(figsize=(10,5))\n",
    "sns.boxplot(x='Q10_Encoded',y='Q4',data=df)"
   ]
  },
  {
   "cell_type": "code",
   "execution_count": 32,
   "metadata": {},
   "outputs": [],
   "source": [
    "# dummy code education degrees\n",
    "df = pd.get_dummies(data=df, columns=['Q4'])"
   ]
  },
  {
   "cell_type": "markdown",
   "metadata": {},
   "source": [
    "## Title and salary"
   ]
  },
  {
   "cell_type": "code",
   "execution_count": 33,
   "metadata": {},
   "outputs": [
    {
     "data": {
      "text/plain": [
       "Q5\n",
       "Business Analyst            568\n",
       "DBA/Database Engineer        98\n",
       "Data Analyst               1170\n",
       "Data Engineer               466\n",
       "Data Scientist             3235\n",
       "Other                      1187\n",
       "Product/Project Manager     549\n",
       "Research Scientist         1109\n",
       "Software Engineer          1953\n",
       "Statistician                219\n",
       "dtype: int64"
      ]
     },
     "execution_count": 33,
     "metadata": {},
     "output_type": "execute_result"
    }
   ],
   "source": [
    "# look at the number of poeple choosing different choices\n",
    "df.groupby('Q5').size()"
   ]
  },
  {
   "cell_type": "code",
   "execution_count": 34,
   "metadata": {},
   "outputs": [
    {
     "data": {
      "text/html": [
       "<div>\n",
       "<style scoped>\n",
       "    .dataframe tbody tr th:only-of-type {\n",
       "        vertical-align: middle;\n",
       "    }\n",
       "\n",
       "    .dataframe tbody tr th {\n",
       "        vertical-align: top;\n",
       "    }\n",
       "\n",
       "    .dataframe thead th {\n",
       "        text-align: right;\n",
       "    }\n",
       "</style>\n",
       "<table border=\"1\" class=\"dataframe\">\n",
       "  <thead>\n",
       "    <tr style=\"text-align: right;\">\n",
       "      <th></th>\n",
       "      <th>Q1</th>\n",
       "      <th>Q3</th>\n",
       "      <th>Q5</th>\n",
       "      <th>Q6</th>\n",
       "      <th>Q7</th>\n",
       "      <th>Q8</th>\n",
       "      <th>Q9_Part_1</th>\n",
       "      <th>Q9_Part_2</th>\n",
       "      <th>Q9_Part_3</th>\n",
       "      <th>Q9_Part_4</th>\n",
       "      <th>...</th>\n",
       "      <th>Q10_Encoded</th>\n",
       "      <th>Q10_buckets</th>\n",
       "      <th>Q2_Female</th>\n",
       "      <th>Q2_Male</th>\n",
       "      <th>world_region_Asia_CSAmerica_Africa</th>\n",
       "      <th>world_region_Europe_MidEast</th>\n",
       "      <th>world_region_NAmerica_Oceania</th>\n",
       "      <th>Q4_Bachelor’s degree</th>\n",
       "      <th>Q4_Doctoral degree</th>\n",
       "      <th>Q4_Master’s degree</th>\n",
       "    </tr>\n",
       "  </thead>\n",
       "  <tbody>\n",
       "  </tbody>\n",
       "</table>\n",
       "<p>0 rows × 75 columns</p>\n",
       "</div>"
      ],
      "text/plain": [
       "Empty DataFrame\n",
       "Columns: [Q1, Q3, Q5, Q6, Q7, Q8, Q9_Part_1, Q9_Part_2, Q9_Part_3, Q9_Part_4, Q9_Part_5, Q10, Q11, Q12_Part_1, Q12_Part_4, Q12_Part_5, Q12_Part_6, Q12_Part_8, Q12_Part_9, Q13_Part_2, Q13_Part_4, Q13_Part_6, Q13_Part_8, Q13_Part_10, Q14, Q15, Q16_Part_1, Q16_Part_2, Q16_Part_3, Q16_Part_6, Q16_Part_9, Q17_Part_1, Q17_Part_2, Q17_Part_11, Q18_Part_1, Q18_Part_2, Q18_Part_3, Q19, Q20_Part_1, Q20_Part_2, Q20_Part_6, Q20_Part_8, Q21_Part_1, Q21_Part_2, Q22, Q23, Q24_Part_1, Q24_Part_2, Q24_Part_3, Q24_Part_4, Q24_Part_7, Q24_Part_9, Q25_Part_7, Q28_Part_1, Q28_Part_2, Q28_Part_3, Q28_Part_4, Q28_Part_5, Q28_Part_6, Q29_Part_2, Q30_Part_11, Q31_Part_11, Q32_Part_11, Q33_Part_11, Q34_Part_1, Q10_Encoded, Q10_buckets, Q2_Female, Q2_Male, world_region_Asia_CSAmerica_Africa, world_region_Europe_MidEast, world_region_NAmerica_Oceania, Q4_Bachelor’s degree, Q4_Doctoral degree, Q4_Master’s degree]\n",
       "Index: []\n",
       "\n",
       "[0 rows x 75 columns]"
      ]
     },
     "execution_count": 34,
     "metadata": {},
     "output_type": "execute_result"
    }
   ],
   "source": [
    "# check no missing value\n",
    "df[df['Q5'].isnull()]"
   ]
  },
  {
   "cell_type": "code",
   "execution_count": 35,
   "metadata": {},
   "outputs": [
    {
     "data": {
      "text/plain": [
       "<AxesSubplot:xlabel='Q10_Encoded', ylabel='Q5'>"
      ]
     },
     "execution_count": 35,
     "metadata": {},
     "output_type": "execute_result"
    },
    {
     "data": {
      "image/png": "[encoded data removed]",
      "text/plain": [
       "<Figure size 1080x720 with 1 Axes>"
      ]
     },
     "metadata": {
      "needs_background": "light"
     },
     "output_type": "display_data"
    }
   ],
   "source": [
    "plt.figure(figsize=(15,10))\n",
    "sns.boxplot(x='Q10_Encoded',y='Q5',data=df)"
   ]
  },
  {
   "cell_type": "code",
   "execution_count": 36,
   "metadata": {},
   "outputs": [
    {
     "data": {
      "text/plain": [
       "Q5\n",
       "Business Analyst           3.320423\n",
       "DBA/Database Engineer      3.795918\n",
       "Data Analyst               3.100855\n",
       "Data Engineer              4.141631\n",
       "Data Scientist             4.827202\n",
       "Other                      4.346251\n",
       "Product/Project Manager    5.316940\n",
       "Research Scientist         3.882777\n",
       "Software Engineer          3.259601\n",
       "Statistician               3.940639\n",
       "Name: Q10_Encoded, dtype: float64"
      ]
     },
     "execution_count": 36,
     "metadata": {},
     "output_type": "execute_result"
    }
   ],
   "source": [
    "df.groupby(['Q5'])['Q10_Encoded'].mean()"
   ]
  },
  {
   "cell_type": "markdown",
   "metadata": {},
   "source": [
    "I can't find a rule to group the different work titles into bigger groups. Therefore, I will go on and dummy code them and leave them to feature selection later to eliminate non-useful choices for salary prediction."
   ]
  },
  {
   "cell_type": "code",
   "execution_count": 37,
   "metadata": {},
   "outputs": [],
   "source": [
    "# dummy code\n",
    "df = pd.get_dummies(data=df, columns=['Q5'])"
   ]
  },
  {
   "cell_type": "markdown",
   "metadata": {},
   "source": [
    "## Company size and salary"
   ]
  },
  {
   "cell_type": "code",
   "execution_count": 38,
   "metadata": {},
   "outputs": [
    {
     "data": {
      "text/plain": [
       "Q6\n",
       "0-49 employees          2823\n",
       "1000-9,999 employees    2098\n",
       "250-999 employees       1397\n",
       "50-249 employees        1699\n",
       "> 10,000 employees      2537\n",
       "dtype: int64"
      ]
     },
     "execution_count": 38,
     "metadata": {},
     "output_type": "execute_result"
    }
   ],
   "source": [
    "# check number of responses in each choice\n",
    "df.groupby('Q6').size()"
   ]
  },
  {
   "cell_type": "code",
   "execution_count": 39,
   "metadata": {},
   "outputs": [
    {
     "data": {
      "text/html": [
       "<div>\n",
       "<style scoped>\n",
       "    .dataframe tbody tr th:only-of-type {\n",
       "        vertical-align: middle;\n",
       "    }\n",
       "\n",
       "    .dataframe tbody tr th {\n",
       "        vertical-align: top;\n",
       "    }\n",
       "\n",
       "    .dataframe thead th {\n",
       "        text-align: right;\n",
       "    }\n",
       "</style>\n",
       "<table border=\"1\" class=\"dataframe\">\n",
       "  <thead>\n",
       "    <tr style=\"text-align: right;\">\n",
       "      <th></th>\n",
       "      <th>Q1</th>\n",
       "      <th>Q3</th>\n",
       "      <th>Q6</th>\n",
       "      <th>Q7</th>\n",
       "      <th>Q8</th>\n",
       "      <th>Q9_Part_1</th>\n",
       "      <th>Q9_Part_2</th>\n",
       "      <th>Q9_Part_3</th>\n",
       "      <th>Q9_Part_4</th>\n",
       "      <th>Q9_Part_5</th>\n",
       "      <th>...</th>\n",
       "      <th>Q5_Business Analyst</th>\n",
       "      <th>Q5_DBA/Database Engineer</th>\n",
       "      <th>Q5_Data Analyst</th>\n",
       "      <th>Q5_Data Engineer</th>\n",
       "      <th>Q5_Data Scientist</th>\n",
       "      <th>Q5_Other</th>\n",
       "      <th>Q5_Product/Project Manager</th>\n",
       "      <th>Q5_Research Scientist</th>\n",
       "      <th>Q5_Software Engineer</th>\n",
       "      <th>Q5_Statistician</th>\n",
       "    </tr>\n",
       "  </thead>\n",
       "  <tbody>\n",
       "  </tbody>\n",
       "</table>\n",
       "<p>0 rows × 84 columns</p>\n",
       "</div>"
      ],
      "text/plain": [
       "Empty DataFrame\n",
       "Columns: [Q1, Q3, Q6, Q7, Q8, Q9_Part_1, Q9_Part_2, Q9_Part_3, Q9_Part_4, Q9_Part_5, Q10, Q11, Q12_Part_1, Q12_Part_4, Q12_Part_5, Q12_Part_6, Q12_Part_8, Q12_Part_9, Q13_Part_2, Q13_Part_4, Q13_Part_6, Q13_Part_8, Q13_Part_10, Q14, Q15, Q16_Part_1, Q16_Part_2, Q16_Part_3, Q16_Part_6, Q16_Part_9, Q17_Part_1, Q17_Part_2, Q17_Part_11, Q18_Part_1, Q18_Part_2, Q18_Part_3, Q19, Q20_Part_1, Q20_Part_2, Q20_Part_6, Q20_Part_8, Q21_Part_1, Q21_Part_2, Q22, Q23, Q24_Part_1, Q24_Part_2, Q24_Part_3, Q24_Part_4, Q24_Part_7, Q24_Part_9, Q25_Part_7, Q28_Part_1, Q28_Part_2, Q28_Part_3, Q28_Part_4, Q28_Part_5, Q28_Part_6, Q29_Part_2, Q30_Part_11, Q31_Part_11, Q32_Part_11, Q33_Part_11, Q34_Part_1, Q10_Encoded, Q10_buckets, Q2_Female, Q2_Male, world_region_Asia_CSAmerica_Africa, world_region_Europe_MidEast, world_region_NAmerica_Oceania, Q4_Bachelor’s degree, Q4_Doctoral degree, Q4_Master’s degree, Q5_Business Analyst, Q5_DBA/Database Engineer, Q5_Data Analyst, Q5_Data Engineer, Q5_Data Scientist, Q5_Other, Q5_Product/Project Manager, Q5_Research Scientist, Q5_Software Engineer, Q5_Statistician]\n",
       "Index: []\n",
       "\n",
       "[0 rows x 84 columns]"
      ]
     },
     "execution_count": 39,
     "metadata": {},
     "output_type": "execute_result"
    }
   ],
   "source": [
    "# check missing value\n",
    "df[df['Q6'].isnull()]"
   ]
  },
  {
   "cell_type": "code",
   "execution_count": 40,
   "metadata": {},
   "outputs": [
    {
     "data": {
      "text/plain": [
       "<AxesSubplot:xlabel='Q10_Encoded', ylabel='Q6'>"
      ]
     },
     "execution_count": 40,
     "metadata": {},
     "output_type": "execute_result"
    },
    {
     "data": {
      "image/png": "[encoded data removed]",
      "text/plain": [
       "<Figure size 720x360 with 1 Axes>"
      ]
     },
     "metadata": {
      "needs_background": "light"
     },
     "output_type": "display_data"
    }
   ],
   "source": [
    "plt.figure(figsize=(10,5))\n",
    "sns.boxplot(x='Q10_Encoded',y='Q6',data=df)"
   ]
  },
  {
   "cell_type": "markdown",
   "metadata": {},
   "source": [
    "Since number of employees has an inherent order, we can encode this variable into numerical data."
   ]
  },
  {
   "cell_type": "code",
   "execution_count": 41,
   "metadata": {},
   "outputs": [],
   "source": [
    "# encode each bin as numerical data\n",
    "Q6_encode = {\n",
    "    '0-49 employees': 0,\n",
    "    '50-249 employees': 1,\n",
    "    '250-999 employees': 2,\n",
    "    '1000-9,999 employees': 3,\n",
    "    '> 10,000 employees': 4\n",
    "}\n",
    "# map the encoding\n",
    "df.loc[:,'Q6'] = df.loc[:,'Q6'].map(Q6_encode)"
   ]
  },
  {
   "cell_type": "code",
   "execution_count": 42,
   "metadata": {},
   "outputs": [
    {
     "data": {
      "text/plain": [
       "<AxesSubplot:xlabel='Q6', ylabel='Q10_Encoded'>"
      ]
     },
     "execution_count": 42,
     "metadata": {},
     "output_type": "execute_result"
    },
    {
     "data": {
      "image/png": "[encoded data removed]",
      "text/plain": [
       "<Figure size 432x288 with 1 Axes>"
      ]
     },
     "metadata": {
      "needs_background": "light"
     },
     "output_type": "display_data"
    }
   ],
   "source": [
    "sns.lineplot(data=df,\n",
    "            x=\"Q6\",\n",
    "            y=\"Q10_Encoded\")"
   ]
  },
  {
   "cell_type": "markdown",
   "metadata": {},
   "source": [
    "We can see that there is a trend of increased salary with increased size of the company (number of employee in the company)."
   ]
  },
  {
   "cell_type": "markdown",
   "metadata": {},
   "source": [
    "## Number of data science worker in company and salary"
   ]
  },
  {
   "cell_type": "code",
   "execution_count": 43,
   "metadata": {},
   "outputs": [
    {
     "data": {
      "text/plain": [
       "Q7\n",
       "0        1336\n",
       "1-2      2271\n",
       "10-14     767\n",
       "15-19     340\n",
       "20+      2578\n",
       "3-4      1817\n",
       "5-9      1445\n",
       "dtype: int64"
      ]
     },
     "execution_count": 43,
     "metadata": {},
     "output_type": "execute_result"
    }
   ],
   "source": [
    "df.groupby('Q7').size()"
   ]
  },
  {
   "cell_type": "code",
   "execution_count": 44,
   "metadata": {},
   "outputs": [
    {
     "data": {
      "text/html": [
       "<div>\n",
       "<style scoped>\n",
       "    .dataframe tbody tr th:only-of-type {\n",
       "        vertical-align: middle;\n",
       "    }\n",
       "\n",
       "    .dataframe tbody tr th {\n",
       "        vertical-align: top;\n",
       "    }\n",
       "\n",
       "    .dataframe thead th {\n",
       "        text-align: right;\n",
       "    }\n",
       "</style>\n",
       "<table border=\"1\" class=\"dataframe\">\n",
       "  <thead>\n",
       "    <tr style=\"text-align: right;\">\n",
       "      <th></th>\n",
       "      <th>Q1</th>\n",
       "      <th>Q3</th>\n",
       "      <th>Q6</th>\n",
       "      <th>Q7</th>\n",
       "      <th>Q8</th>\n",
       "      <th>Q9_Part_1</th>\n",
       "      <th>Q9_Part_2</th>\n",
       "      <th>Q9_Part_3</th>\n",
       "      <th>Q9_Part_4</th>\n",
       "      <th>Q9_Part_5</th>\n",
       "      <th>...</th>\n",
       "      <th>Q5_Business Analyst</th>\n",
       "      <th>Q5_DBA/Database Engineer</th>\n",
       "      <th>Q5_Data Analyst</th>\n",
       "      <th>Q5_Data Engineer</th>\n",
       "      <th>Q5_Data Scientist</th>\n",
       "      <th>Q5_Other</th>\n",
       "      <th>Q5_Product/Project Manager</th>\n",
       "      <th>Q5_Research Scientist</th>\n",
       "      <th>Q5_Software Engineer</th>\n",
       "      <th>Q5_Statistician</th>\n",
       "    </tr>\n",
       "  </thead>\n",
       "  <tbody>\n",
       "  </tbody>\n",
       "</table>\n",
       "<p>0 rows × 84 columns</p>\n",
       "</div>"
      ],
      "text/plain": [
       "Empty DataFrame\n",
       "Columns: [Q1, Q3, Q6, Q7, Q8, Q9_Part_1, Q9_Part_2, Q9_Part_3, Q9_Part_4, Q9_Part_5, Q10, Q11, Q12_Part_1, Q12_Part_4, Q12_Part_5, Q12_Part_6, Q12_Part_8, Q12_Part_9, Q13_Part_2, Q13_Part_4, Q13_Part_6, Q13_Part_8, Q13_Part_10, Q14, Q15, Q16_Part_1, Q16_Part_2, Q16_Part_3, Q16_Part_6, Q16_Part_9, Q17_Part_1, Q17_Part_2, Q17_Part_11, Q18_Part_1, Q18_Part_2, Q18_Part_3, Q19, Q20_Part_1, Q20_Part_2, Q20_Part_6, Q20_Part_8, Q21_Part_1, Q21_Part_2, Q22, Q23, Q24_Part_1, Q24_Part_2, Q24_Part_3, Q24_Part_4, Q24_Part_7, Q24_Part_9, Q25_Part_7, Q28_Part_1, Q28_Part_2, Q28_Part_3, Q28_Part_4, Q28_Part_5, Q28_Part_6, Q29_Part_2, Q30_Part_11, Q31_Part_11, Q32_Part_11, Q33_Part_11, Q34_Part_1, Q10_Encoded, Q10_buckets, Q2_Female, Q2_Male, world_region_Asia_CSAmerica_Africa, world_region_Europe_MidEast, world_region_NAmerica_Oceania, Q4_Bachelor’s degree, Q4_Doctoral degree, Q4_Master’s degree, Q5_Business Analyst, Q5_DBA/Database Engineer, Q5_Data Analyst, Q5_Data Engineer, Q5_Data Scientist, Q5_Other, Q5_Product/Project Manager, Q5_Research Scientist, Q5_Software Engineer, Q5_Statistician]\n",
       "Index: []\n",
       "\n",
       "[0 rows x 84 columns]"
      ]
     },
     "execution_count": 44,
     "metadata": {},
     "output_type": "execute_result"
    }
   ],
   "source": [
    "df[df['Q7'].isnull()]"
   ]
  },
  {
   "cell_type": "code",
   "execution_count": 45,
   "metadata": {},
   "outputs": [
    {
     "data": {
      "text/plain": [
       "<AxesSubplot:xlabel='Q10_Encoded', ylabel='Q7'>"
      ]
     },
     "execution_count": 45,
     "metadata": {},
     "output_type": "execute_result"
    },
    {
     "data": {
      "image/png": "[encoded data removed]",
      "text/plain": [
       "<Figure size 720x360 with 1 Axes>"
      ]
     },
     "metadata": {
      "needs_background": "light"
     },
     "output_type": "display_data"
    }
   ],
   "source": [
    "plt.figure(figsize=(10,5))\n",
    "sns.boxplot(x='Q10_Encoded',y='Q7',data=df)"
   ]
  },
  {
   "cell_type": "markdown",
   "metadata": {},
   "source": [
    "Number of data science worker has an inherent order: encode them as numerical data."
   ]
  },
  {
   "cell_type": "code",
   "execution_count": 46,
   "metadata": {},
   "outputs": [],
   "source": [
    "# encode each bin as numerical data\n",
    "Q7_encode = {\n",
    "    '0': 0,\n",
    "    '1-2': 1,\n",
    "    '3-4': 2,\n",
    "    '5-9': 3,\n",
    "    '10-14': 4,\n",
    "    '15-19': 5,\n",
    "    '20+': 6\n",
    "}\n",
    "# map the encoding\n",
    "df.loc[:,'Q7'] = df.loc[:,'Q7'].map(Q7_encode)"
   ]
  },
  {
   "cell_type": "code",
   "execution_count": 47,
   "metadata": {},
   "outputs": [
    {
     "data": {
      "text/plain": [
       "<AxesSubplot:xlabel='Q7', ylabel='Q10_Encoded'>"
      ]
     },
     "execution_count": 47,
     "metadata": {},
     "output_type": "execute_result"
    },
    {
     "data": {
      "image/png": "[encoded data removed]",
      "text/plain": [
       "<Figure size 432x288 with 1 Axes>"
      ]
     },
     "metadata": {
      "needs_background": "light"
     },
     "output_type": "display_data"
    }
   ],
   "source": [
    "sns.lineplot(data=df,\n",
    "            x=\"Q7\",\n",
    "            y=\"Q10_Encoded\")"
   ]
  },
  {
   "cell_type": "markdown",
   "metadata": {},
   "source": [
    "Generally, there is a trend of increased salary with increased number of data science worker, with a dip for 15-19 data science worker."
   ]
  },
  {
   "cell_type": "markdown",
   "metadata": {},
   "source": [
    "# ML in business or not and salary"
   ]
  },
  {
   "cell_type": "code",
   "execution_count": 48,
   "metadata": {},
   "outputs": [
    {
     "data": {
      "text/plain": [
       "Q8\n",
       "I do not know                                                                                 900\n",
       "No (we do not use ML methods)                                                                1805\n",
       "We are exploring ML methods (and may one day put a model into production)                    2207\n",
       "We have well established ML methods (i.e., models in production for more than 2 years)       2139\n",
       "We recently started using ML methods (i.e., models in production for less than 2 years)      2234\n",
       "We use ML methods for generating insights (but do not put working models into production)    1269\n",
       "dtype: int64"
      ]
     },
     "execution_count": 48,
     "metadata": {},
     "output_type": "execute_result"
    }
   ],
   "source": [
    "df.groupby('Q8').size()"
   ]
  },
  {
   "cell_type": "code",
   "execution_count": 49,
   "metadata": {},
   "outputs": [
    {
     "data": {
      "text/plain": [
       "<AxesSubplot:xlabel='Q10_Encoded', ylabel='Q8'>"
      ]
     },
     "execution_count": 49,
     "metadata": {},
     "output_type": "execute_result"
    },
    {
     "data": {
      "image/png": "[encoded data removed]",
      "text/plain": [
       "<Figure size 720x360 with 1 Axes>"
      ]
     },
     "metadata": {
      "needs_background": "light"
     },
     "output_type": "display_data"
    }
   ],
   "source": [
    "plt.figure(figsize=(10,5))\n",
    "sns.boxplot(x='Q10_Encoded',y='Q8',data=df)"
   ]
  },
  {
   "cell_type": "markdown",
   "metadata": {},
   "source": [
    "We can generalize the answers into Yes and No to using ML in general. "
   ]
  },
  {
   "cell_type": "code",
   "execution_count": 50,
   "metadata": {},
   "outputs": [],
   "source": [
    "for i in range(len(df)):\n",
    "    if (df['Q8'][i] == 'I do not know') or (df['Q8'][i] == 'No (we do not use ML methods)') or (df['Q8'][i] == 'We are exploring ML methods (and may one day put a model into production)'):\n",
    "        df['Q8'][i] = 'No'\n",
    "    else:\n",
    "        df['Q8'][i] = 'Yes'\n"
   ]
  },
  {
   "cell_type": "code",
   "execution_count": 51,
   "metadata": {},
   "outputs": [
    {
     "data": {
      "text/plain": [
       "<AxesSubplot:xlabel='Q10_Encoded', ylabel='Q8'>"
      ]
     },
     "execution_count": 51,
     "metadata": {},
     "output_type": "execute_result"
    },
    {
     "data": {
      "image/png": "[encoded data removed]",
      "text/plain": [
       "<Figure size 720x360 with 1 Axes>"
      ]
     },
     "metadata": {
      "needs_background": "light"
     },
     "output_type": "display_data"
    }
   ],
   "source": [
    "plt.figure(figsize=(10,5))\n",
    "sns.boxplot(x='Q10_Encoded',y='Q8',data=df)"
   ]
  },
  {
   "cell_type": "code",
   "execution_count": 52,
   "metadata": {},
   "outputs": [],
   "source": [
    "# dummy code\n",
    "df = pd.get_dummies(data=df, columns=['Q8'])"
   ]
  },
  {
   "cell_type": "markdown",
   "metadata": {},
   "source": [
    "## Money spent on ML and salary"
   ]
  },
  {
   "cell_type": "code",
   "execution_count": 53,
   "metadata": {},
   "outputs": [
    {
     "data": {
      "text/plain": [
       "array(['$0 (USD)', '$10,000-$99,999', '$100-$999', '$1000-$9,999',\n",
       "       '> $100,000 ($USD)', '$1-$99', nan], dtype=object)"
      ]
     },
     "execution_count": 53,
     "metadata": {},
     "output_type": "execute_result"
    }
   ],
   "source": [
    "# there is nan\n",
    "df['Q11'].unique()"
   ]
  },
  {
   "cell_type": "code",
   "execution_count": 54,
   "metadata": {},
   "outputs": [
    {
     "data": {
      "text/plain": [
       "Q11\n",
       "$0 (USD)             3364\n",
       "$1-$99               1241\n",
       "$10,000-$99,999      1097\n",
       "$100-$999            1974\n",
       "$1000-$9,999         1805\n",
       "> $100,000 ($USD)     876\n",
       "dtype: int64"
      ]
     },
     "execution_count": 54,
     "metadata": {},
     "output_type": "execute_result"
    }
   ],
   "source": [
    "df.groupby('Q11').size()"
   ]
  },
  {
   "cell_type": "code",
   "execution_count": 55,
   "metadata": {},
   "outputs": [
    {
     "data": {
      "text/plain": [
       "197"
      ]
     },
     "execution_count": 55,
     "metadata": {},
     "output_type": "execute_result"
    }
   ],
   "source": [
    "# number of nan rows\n",
    "df['Q11'].isnull().sum(axis = 0)"
   ]
  },
  {
   "cell_type": "markdown",
   "metadata": {},
   "source": [
    "There are 197 rows with no answer to Q11. I can choose to drop them or replace them with the mode, which is \"0 USD\" in this case.\n",
    "Let's see if there is a difference in the salary distribution of the people who did and didn't answer Q11."
   ]
  },
  {
   "cell_type": "code",
   "execution_count": 56,
   "metadata": {},
   "outputs": [
    {
     "name": "stdout",
     "output_type": "stream",
     "text": [
      "       Alldata   NaN Q11\n",
      "0.0   0.307182  0.451777\n",
      "1.0   0.108584  0.055838\n",
      "2.0   0.078738  0.081218\n",
      "3.0   0.058272  0.065990\n",
      "4.0   0.056945  0.040609\n",
      "5.0   0.058745  0.035533\n",
      "6.0   0.048133  0.065990\n",
      "7.0   0.043870  0.025381\n",
      "8.0   0.034395  0.030457\n",
      "9.0   0.032784  0.045685\n",
      "10.0  0.062441  0.035533\n",
      "11.0  0.042164  0.030457\n",
      "12.0  0.036669  0.005076\n",
      "13.0  0.013265  0.020305\n",
      "14.0  0.017813  0.010152\n"
     ]
    }
   ],
   "source": [
    "# compare normalized distribution of the encoded salary values between missing and non-missing value datapoints\n",
    "a = df['Q10_Encoded'].value_counts(normalize=True)\n",
    "b = df[df['Q11'].isnull()]['Q10_Encoded'].value_counts(normalize=True)\n",
    "print (pd.DataFrame({'Alldata': a, 'NaN Q11':b}))"
   ]
  },
  {
   "cell_type": "markdown",
   "metadata": {},
   "source": [
    "The distribution of the population in the salary bins seems quite different between those who answered Q11 and those who didn't (e.g., see salary bins of 5,6,7,10,12,etc). This means that those who didn't answer Q11 are not randomly distributed accross the surveyed population. In this case, it may be safer to drop those samples instead of replacing them with the mode to Q11. Plus, 197 rows are not too many data to drop."
   ]
  },
  {
   "cell_type": "code",
   "execution_count": 57,
   "metadata": {},
   "outputs": [],
   "source": [
    "# droping na rows\n",
    "df = df.dropna(subset = ['Q11']).reset_index(drop = True)"
   ]
  },
  {
   "cell_type": "markdown",
   "metadata": {},
   "source": [
    "Since the money spent on ML contains ordered values, we can convert them into numerical data."
   ]
  },
  {
   "cell_type": "code",
   "execution_count": 58,
   "metadata": {},
   "outputs": [],
   "source": [
    "# encode each bin as numerical data\n",
    "Q11_encode = {\n",
    "    '$0 (USD)': 0,\n",
    "    '$1-$99': 1,\n",
    "    '$100-$999': 2,\n",
    "    '$1000-$9,999': 3,\n",
    "    '$10,000-$99,999': 4,\n",
    "    '> $100,000 ($USD)': 5\n",
    "}\n",
    "# map the encoding\n",
    "df.loc[:,'Q11'] = df.loc[:,'Q11'].map(Q11_encode)"
   ]
  },
  {
   "cell_type": "code",
   "execution_count": 59,
   "metadata": {},
   "outputs": [
    {
     "data": {
      "text/plain": [
       "<AxesSubplot:xlabel='Q11', ylabel='Q10_Encoded'>"
      ]
     },
     "execution_count": 59,
     "metadata": {},
     "output_type": "execute_result"
    },
    {
     "data": {
      "image/png": "[encoded data removed]",
      "text/plain": [
       "<Figure size 432x288 with 1 Axes>"
      ]
     },
     "metadata": {
      "needs_background": "light"
     },
     "output_type": "display_data"
    }
   ],
   "source": [
    "sns.lineplot(data=df,\n",
    "            x=\"Q11\",\n",
    "            y=\"Q10_Encoded\")"
   ]
  },
  {
   "cell_type": "markdown",
   "metadata": {},
   "source": [
    "A clear trend of increased salary with increased amount of monet spent on ML above $1 USD."
   ]
  },
  {
   "cell_type": "markdown",
   "metadata": {},
   "source": [
    "## Analysis tool used and salary"
   ]
  },
  {
   "cell_type": "code",
   "execution_count": 60,
   "metadata": {},
   "outputs": [
    {
     "data": {
      "text/plain": [
       "Q14\n",
       "Advanced statistical software (SPSS, SAS, etc.)                          622\n",
       "Basic statistical software (Microsoft Excel, Google Sheets, etc.)       1681\n",
       "Business intelligence software (Salesforce, Tableau, Spotfire, etc.)     661\n",
       "Cloud-based data software & APIs (AWS, GCP, Azure, etc.)                 885\n",
       "Local development environments (RStudio, JupyterLab, etc.)              5154\n",
       "Other                                                                    723\n",
       "dtype: int64"
      ]
     },
     "execution_count": 60,
     "metadata": {},
     "output_type": "execute_result"
    }
   ],
   "source": [
    "# let's look at how many poeple chose each choice\n",
    "df.groupby('Q14').size()"
   ]
  },
  {
   "cell_type": "code",
   "execution_count": 61,
   "metadata": {},
   "outputs": [
    {
     "data": {
      "text/plain": [
       "<AxesSubplot:xlabel='Q10_Encoded', ylabel='Q14'>"
      ]
     },
     "execution_count": 61,
     "metadata": {},
     "output_type": "execute_result"
    },
    {
     "data": {
      "image/png": "[encoded data removed]",
      "text/plain": [
       "<Figure size 720x360 with 1 Axes>"
      ]
     },
     "metadata": {
      "needs_background": "light"
     },
     "output_type": "display_data"
    }
   ],
   "source": [
    "# plot the relation between tool used and salary\n",
    "plt.figure(figsize=(10,5))\n",
    "sns.boxplot(x='Q10_Encoded',y='Q14',data=df)"
   ]
  },
  {
   "cell_type": "markdown",
   "metadata": {},
   "source": [
    "No apparent logic in grouping the choices. Therefore, I will dummy code all choices for now and let feature selection eliminate non-useful choices later on."
   ]
  },
  {
   "cell_type": "code",
   "execution_count": 62,
   "metadata": {},
   "outputs": [],
   "source": [
    "# dummy code\n",
    "df = pd.get_dummies(data=df, columns=['Q14'])"
   ]
  },
  {
   "cell_type": "markdown",
   "metadata": {},
   "source": [
    "## Coding experience and salary"
   ]
  },
  {
   "cell_type": "code",
   "execution_count": 63,
   "metadata": {},
   "outputs": [
    {
     "data": {
      "text/plain": [
       "array(['1-2 years', '< 1 years', '20+ years', '3-5 years', '5-10 years',\n",
       "       '10-20 years', 'I have never written code', nan], dtype=object)"
      ]
     },
     "execution_count": 63,
     "metadata": {},
     "output_type": "execute_result"
    }
   ],
   "source": [
    "# there is nan\n",
    "df['Q15'].unique()"
   ]
  },
  {
   "cell_type": "code",
   "execution_count": 64,
   "metadata": {},
   "outputs": [
    {
     "data": {
      "text/plain": [
       "Q15\n",
       "1-2 years                    2316\n",
       "10-20 years                   857\n",
       "20+ years                     457\n",
       "3-5 years                    2441\n",
       "5-10 years                   1555\n",
       "< 1 years                    1662\n",
       "I have never written code     416\n",
       "dtype: int64"
      ]
     },
     "execution_count": 64,
     "metadata": {},
     "output_type": "execute_result"
    }
   ],
   "source": [
    "# look at numbers of different answers\n",
    "df.groupby('Q15').size()"
   ]
  },
  {
   "cell_type": "code",
   "execution_count": 65,
   "metadata": {},
   "outputs": [
    {
     "data": {
      "text/plain": [
       "653"
      ]
     },
     "execution_count": 65,
     "metadata": {},
     "output_type": "execute_result"
    }
   ],
   "source": [
    "# number of nan rows\n",
    "df['Q15'].isnull().sum(axis = 0)"
   ]
  },
  {
   "cell_type": "markdown",
   "metadata": {},
   "source": [
    "There are 653 rows with NaN response to coding experience. We can inspect whether the datapoints with missing values have similar distribution of salary as the datapoints without missing values."
   ]
  },
  {
   "cell_type": "code",
   "execution_count": 66,
   "metadata": {},
   "outputs": [
    {
     "name": "stdout",
     "output_type": "stream",
     "text": [
      "       Alldata   NaN Q15\n",
      "0.0   0.304432  0.459418\n",
      "1.0   0.109588  0.093415\n",
      "2.0   0.078691  0.065850\n",
      "3.0   0.058125  0.038285\n",
      "4.0   0.057256  0.041348\n",
      "5.0   0.059187  0.050536\n",
      "6.0   0.047794  0.029096\n",
      "7.0   0.044221  0.029096\n",
      "8.0   0.034469  0.022971\n",
      "9.0   0.032538  0.029096\n",
      "10.0  0.062953  0.044410\n",
      "11.0  0.042387  0.022971\n",
      "12.0  0.037269  0.033691\n",
      "13.0  0.013131  0.012251\n",
      "14.0  0.017959  0.027565\n"
     ]
    }
   ],
   "source": [
    "# compare normalized distribution of the encoded salary values between missing and non-missing value datapoints\n",
    "a = df['Q10_Encoded'].value_counts(normalize=True)\n",
    "b = df[df['Q15'].isnull()]['Q10_Encoded'].value_counts(normalize=True)\n",
    "print (pd.DataFrame({'Alldata': a, 'NaN Q15':b}))"
   ]
  },
  {
   "cell_type": "markdown",
   "metadata": {},
   "source": [
    "The salary distribution between datapoints with and without missing value seem to be similar. We can replace the missing values with the mode, which is \"3-5 years\" in this case."
   ]
  },
  {
   "cell_type": "code",
   "execution_count": 67,
   "metadata": {},
   "outputs": [],
   "source": [
    "# replace missing value with the mode\n",
    "df.loc[df['Q15'].isnull(),'Q15'] = \"3-5 years\""
   ]
  },
  {
   "cell_type": "code",
   "execution_count": 68,
   "metadata": {},
   "outputs": [
    {
     "data": {
      "text/plain": [
       "<AxesSubplot:xlabel='Q10_Encoded', ylabel='Q15'>"
      ]
     },
     "execution_count": 68,
     "metadata": {},
     "output_type": "execute_result"
    },
    {
     "data": {
      "image/png": "[encoded data removed]",
      "text/plain": [
       "<Figure size 720x360 with 1 Axes>"
      ]
     },
     "metadata": {
      "needs_background": "light"
     },
     "output_type": "display_data"
    }
   ],
   "source": [
    "# plot the relation between coding experience and salary\n",
    "plt.figure(figsize=(10,5))\n",
    "sns.boxplot(x='Q10_Encoded',y='Q15',data=df)"
   ]
  },
  {
   "cell_type": "markdown",
   "metadata": {},
   "source": [
    "Ordered values: we can encode them as numerical data."
   ]
  },
  {
   "cell_type": "code",
   "execution_count": 69,
   "metadata": {},
   "outputs": [],
   "source": [
    "# encode each bin as numerical data\n",
    "Q15_encode = {\n",
    "    'I have never written code': 0,\n",
    "    '< 1 years': 1,\n",
    "    '1-2 years': 2,\n",
    "    '3-5 years': 3,\n",
    "    '5-10 years': 4,\n",
    "    '10-20 years': 5,\n",
    "    '20+ years': 6\n",
    "}\n",
    "# map the encoding\n",
    "df.loc[:,'Q15'] = df.loc[:,'Q15'].map(Q15_encode)"
   ]
  },
  {
   "cell_type": "code",
   "execution_count": 70,
   "metadata": {},
   "outputs": [
    {
     "data": {
      "text/plain": [
       "<AxesSubplot:xlabel='Q15', ylabel='Q10_Encoded'>"
      ]
     },
     "execution_count": 70,
     "metadata": {},
     "output_type": "execute_result"
    },
    {
     "data": {
      "image/png": "[encoded data removed]",
      "text/plain": [
       "<Figure size 432x288 with 1 Axes>"
      ]
     },
     "metadata": {
      "needs_background": "light"
     },
     "output_type": "display_data"
    }
   ],
   "source": [
    "sns.lineplot(data=df,\n",
    "            x=\"Q15\",\n",
    "            y=\"Q10_Encoded\")"
   ]
  },
  {
   "cell_type": "markdown",
   "metadata": {},
   "source": [
    "An overall trend of increased salary with increased coding experience."
   ]
  },
  {
   "cell_type": "markdown",
   "metadata": {},
   "source": [
    "## TPU experience and salary"
   ]
  },
  {
   "cell_type": "code",
   "execution_count": 71,
   "metadata": {},
   "outputs": [
    {
     "data": {
      "text/plain": [
       "Q22\n",
       "2-5 times      657\n",
       "6-24 times     119\n",
       "> 25 times     104\n",
       "Never         7319\n",
       "Once           829\n",
       "dtype: int64"
      ]
     },
     "execution_count": 71,
     "metadata": {},
     "output_type": "execute_result"
    }
   ],
   "source": [
    "# look at numbers of different answers\n",
    "df.groupby('Q22').size()"
   ]
  },
  {
   "cell_type": "code",
   "execution_count": 72,
   "metadata": {},
   "outputs": [
    {
     "data": {
      "text/plain": [
       "array(['Never', 'Once', '6-24 times', '2-5 times', nan, '> 25 times'],\n",
       "      dtype=object)"
      ]
     },
     "execution_count": 72,
     "metadata": {},
     "output_type": "execute_result"
    }
   ],
   "source": [
    "df['Q22'].unique()"
   ]
  },
  {
   "cell_type": "code",
   "execution_count": 73,
   "metadata": {},
   "outputs": [
    {
     "data": {
      "text/plain": [
       "1329"
      ]
     },
     "execution_count": 73,
     "metadata": {},
     "output_type": "execute_result"
    }
   ],
   "source": [
    "# number of nan rows\n",
    "df['Q22'].isnull().sum(axis = 0)"
   ]
  },
  {
   "cell_type": "markdown",
   "metadata": {},
   "source": [
    "Since there is a large number of missing value for this question, let's check if the datapoints of the missing vlues and those with non-missing values have similar normalized distribution in salary bins."
   ]
  },
  {
   "cell_type": "code",
   "execution_count": 74,
   "metadata": {},
   "outputs": [
    {
     "name": "stdout",
     "output_type": "stream",
     "text": [
      "       Alldata   NaN Q22\n",
      "0.0   0.304432  0.466516\n",
      "1.0   0.109588  0.112867\n",
      "2.0   0.078691  0.067720\n",
      "3.0   0.058125  0.041384\n",
      "4.0   0.057256  0.042889\n",
      "5.0   0.059187  0.043642\n",
      "6.0   0.047794  0.025583\n",
      "7.0   0.044221  0.025583\n",
      "8.0   0.034469  0.024078\n",
      "9.0   0.032538  0.030850\n",
      "10.0  0.062953  0.039127\n",
      "11.0  0.042387  0.019564\n",
      "12.0  0.037269  0.027088\n",
      "13.0  0.013131  0.009029\n",
      "14.0  0.017959  0.024078\n"
     ]
    }
   ],
   "source": [
    "# compare normalized distribution of the encoded salary values between missing and non-missing value datapoints\n",
    "a = df['Q10_Encoded'].value_counts(normalize=True)\n",
    "b = df[df['Q22'].isnull()]['Q10_Encoded'].value_counts(normalize=True)\n",
    "print (pd.DataFrame({'Alldata': a, 'NaN Q22':b}))"
   ]
  },
  {
   "cell_type": "markdown",
   "metadata": {},
   "source": [
    "The salary distribution between datapoints with and without missing value seem to be similar. We can replace the missing values with the mode, which is \"Never\" in this case."
   ]
  },
  {
   "cell_type": "code",
   "execution_count": 75,
   "metadata": {},
   "outputs": [],
   "source": [
    "# replace \n",
    "df.loc[df['Q22'].isnull(),'Q22'] = \"Never\""
   ]
  },
  {
   "cell_type": "code",
   "execution_count": 76,
   "metadata": {},
   "outputs": [
    {
     "data": {
      "text/plain": [
       "<AxesSubplot:xlabel='Q10_Encoded', ylabel='Q22'>"
      ]
     },
     "execution_count": 76,
     "metadata": {},
     "output_type": "execute_result"
    },
    {
     "data": {
      "image/png": "[encoded data removed]",
      "text/plain": [
       "<Figure size 720x360 with 1 Axes>"
      ]
     },
     "metadata": {
      "needs_background": "light"
     },
     "output_type": "display_data"
    }
   ],
   "source": [
    "plt.figure(figsize=(10,5))\n",
    "sns.boxplot(x='Q10_Encoded',y='Q22',data=df)"
   ]
  },
  {
   "cell_type": "markdown",
   "metadata": {},
   "source": [
    "TPU experience has inherent order: we can encode them as numerical data."
   ]
  },
  {
   "cell_type": "code",
   "execution_count": 77,
   "metadata": {},
   "outputs": [],
   "source": [
    "# encode each bin as numerical data\n",
    "Q22_encode = {\n",
    "    'Never': 0,\n",
    "    'Once': 1,\n",
    "    '2-5 times': 2,\n",
    "    '6-24 times': 3,\n",
    "    '> 25 times': 4\n",
    "}\n",
    "# map the encoding\n",
    "df.loc[:,'Q22'] = df.loc[:,'Q22'].map(Q22_encode)"
   ]
  },
  {
   "cell_type": "code",
   "execution_count": 78,
   "metadata": {},
   "outputs": [
    {
     "data": {
      "text/plain": [
       "<AxesSubplot:xlabel='Q22', ylabel='Q10_Encoded'>"
      ]
     },
     "execution_count": 78,
     "metadata": {},
     "output_type": "execute_result"
    },
    {
     "data": {
      "image/png": "[encoded data removed]",
      "text/plain": [
       "<Figure size 432x288 with 1 Axes>"
      ]
     },
     "metadata": {
      "needs_background": "light"
     },
     "output_type": "display_data"
    }
   ],
   "source": [
    "sns.lineplot(data=df,\n",
    "            x=\"Q22\",\n",
    "            y=\"Q10_Encoded\")"
   ]
  },
  {
   "cell_type": "markdown",
   "metadata": {},
   "source": [
    "A general trend of increased salary with increased TPU experience above Never."
   ]
  },
  {
   "cell_type": "markdown",
   "metadata": {},
   "source": [
    "## ML experience and salary"
   ]
  },
  {
   "cell_type": "code",
   "execution_count": 79,
   "metadata": {},
   "outputs": [
    {
     "data": {
      "text/plain": [
       "array(['1-2 years', '2-3 years', '< 1 years', '10-15 years', '3-4 years',\n",
       "       '4-5 years', '5-10 years', nan, '20+ years'], dtype=object)"
      ]
     },
     "execution_count": 79,
     "metadata": {},
     "output_type": "execute_result"
    }
   ],
   "source": [
    "df['Q23'].unique()"
   ]
  },
  {
   "cell_type": "code",
   "execution_count": 80,
   "metadata": {},
   "outputs": [
    {
     "data": {
      "text/plain": [
       "Q23\n",
       "1-2 years      2328\n",
       "10-15 years     282\n",
       "2-3 years      1356\n",
       "20+ years       162\n",
       "3-4 years       851\n",
       "4-5 years       777\n",
       "5-10 years      739\n",
       "< 1 years      2525\n",
       "dtype: int64"
      ]
     },
     "execution_count": 80,
     "metadata": {},
     "output_type": "execute_result"
    }
   ],
   "source": [
    "# look at numbers of different answers\n",
    "df.groupby('Q23').size()"
   ]
  },
  {
   "cell_type": "code",
   "execution_count": 81,
   "metadata": {},
   "outputs": [
    {
     "data": {
      "text/plain": [
       "1337"
      ]
     },
     "execution_count": 81,
     "metadata": {},
     "output_type": "execute_result"
    }
   ],
   "source": [
    "# number of nan rows\n",
    "df['Q23'].isnull().sum(axis = 0)"
   ]
  },
  {
   "cell_type": "code",
   "execution_count": 82,
   "metadata": {},
   "outputs": [
    {
     "name": "stdout",
     "output_type": "stream",
     "text": [
      "       Alldata   NaN Q23\n",
      "0.0   0.304432  0.465221\n",
      "1.0   0.109588  0.112191\n",
      "2.0   0.078691  0.067315\n",
      "3.0   0.058125  0.041137\n",
      "4.0   0.057256  0.043381\n",
      "5.0   0.059187  0.043381\n",
      "6.0   0.047794  0.026178\n",
      "7.0   0.044221  0.026926\n",
      "8.0   0.034469  0.023934\n",
      "9.0   0.032538  0.030666\n",
      "10.0  0.062953  0.038893\n",
      "11.0  0.042387  0.019447\n",
      "12.0  0.037269  0.027674\n",
      "13.0  0.013131  0.009723\n",
      "14.0  0.017959  0.023934\n"
     ]
    }
   ],
   "source": [
    "# compare normalized distribution of the encoded salary values between missing and non-missing value datapoints\n",
    "a = df['Q10_Encoded'].value_counts(normalize=True)\n",
    "b = df[df['Q23'].isnull()]['Q10_Encoded'].value_counts(normalize=True)\n",
    "print (pd.DataFrame({'Alldata': a, 'NaN Q23':b}))"
   ]
  },
  {
   "cell_type": "markdown",
   "metadata": {},
   "source": [
    "The salary distribution between datapoints with and without missing value seem to be similar. We can replace the missing values with the mode, which is \"< 1 years\" in this case."
   ]
  },
  {
   "cell_type": "code",
   "execution_count": 83,
   "metadata": {},
   "outputs": [],
   "source": [
    "# replace \n",
    "df.loc[df['Q23'].isnull(),'Q23'] = \"< 1 years\""
   ]
  },
  {
   "cell_type": "code",
   "execution_count": 84,
   "metadata": {},
   "outputs": [],
   "source": [
    "# droping na rows\n",
    "#df = df.dropna(subset = ['Q23']).reset_index(drop = True)"
   ]
  },
  {
   "cell_type": "code",
   "execution_count": 85,
   "metadata": {},
   "outputs": [
    {
     "data": {
      "text/plain": [
       "<AxesSubplot:xlabel='Q10_Encoded', ylabel='Q23'>"
      ]
     },
     "execution_count": 85,
     "metadata": {},
     "output_type": "execute_result"
    },
    {
     "data": {
      "image/png": "[encoded data removed]",
      "text/plain": [
       "<Figure size 720x360 with 1 Axes>"
      ]
     },
     "metadata": {
      "needs_background": "light"
     },
     "output_type": "display_data"
    }
   ],
   "source": [
    "plt.figure(figsize=(10,5))\n",
    "sns.boxplot(x='Q10_Encoded',y='Q23',data=df)"
   ]
  },
  {
   "cell_type": "markdown",
   "metadata": {},
   "source": [
    "Ordered values: we can encode them into numerical data."
   ]
  },
  {
   "cell_type": "code",
   "execution_count": 86,
   "metadata": {},
   "outputs": [],
   "source": [
    "# encode each bin as numerical data\n",
    "Q23_encode = {\n",
    "    '< 1 years': 0,\n",
    "    '1-2 years': 1,\n",
    "    '2-3 years': 2,\n",
    "    '3-4 years': 3,\n",
    "    '4-5 years': 4,\n",
    "    '5-10 years': 5,\n",
    "    '10-15 years': 6,\n",
    "    '20+ years': 7\n",
    "}\n",
    "# map the encoding\n",
    "df.loc[:,'Q23'] = df.loc[:,'Q23'].map(Q23_encode)"
   ]
  },
  {
   "cell_type": "code",
   "execution_count": 87,
   "metadata": {},
   "outputs": [
    {
     "data": {
      "text/plain": [
       "<AxesSubplot:xlabel='Q23', ylabel='Q10_Encoded'>"
      ]
     },
     "execution_count": 87,
     "metadata": {},
     "output_type": "execute_result"
    },
    {
     "data": {
      "image/png": "[encoded data removed]",
      "text/plain": [
       "<Figure size 432x288 with 1 Axes>"
      ]
     },
     "metadata": {
      "needs_background": "light"
     },
     "output_type": "display_data"
    }
   ],
   "source": [
    "sns.lineplot(data=df,\n",
    "            x=\"Q23\",\n",
    "            y=\"Q10_Encoded\")"
   ]
  },
  {
   "cell_type": "markdown",
   "metadata": {},
   "source": [
    "A clear trend of increased salary with increased ML experience."
   ]
  },
  {
   "cell_type": "markdown",
   "metadata": {},
   "source": [
    "### Remove columns not needed, including columns that are dummy coded into other columns and columns that does not relate to salary (e.g., Q19: programming language recommanded for others)."
   ]
  },
  {
   "cell_type": "code",
   "execution_count": 88,
   "metadata": {},
   "outputs": [],
   "source": [
    "# extra columns to remove\n",
    "remove = ['Q3', 'Q10','Q19','Q10_buckets']\n",
    "df = df.drop(remove, axis = 1)"
   ]
  },
  {
   "cell_type": "markdown",
   "metadata": {},
   "source": [
    "# (2) Feature selection\n",
    "\n",
    "### Recursive Feature Elimination\n",
    "\n",
    "scikit-learn:\n",
    "\n",
    "Given an external estimator that assigns weights to features (e.g., the coefficients of a linear model), the goal of recursive feature elimination (RFE) is to select features by recursively considering smaller and smaller sets of features. First, the estimator is trained on the initial set of features and the importance of each feature is obtained either through a coef_ attribute or through a feature_importances_ attribute. Then, the least important features are pruned from current set of features. That procedure is recursively repeated on the pruned set until the desired number of features to select is eventually reached.\n",
    "\n",
    "https://scikit-learn.org/stable/modules/generated/sklearn.feature_selection.RFE.html\n"
   ]
  },
  {
   "cell_type": "code",
   "execution_count": 89,
   "metadata": {},
   "outputs": [],
   "source": [
    "# separate the response variable from the predictors\n",
    "Y = df['Q10_Encoded']\n",
    "X = df.drop('Q10_Encoded', axis=1)"
   ]
  },
  {
   "cell_type": "code",
   "execution_count": 90,
   "metadata": {},
   "outputs": [],
   "source": [
    "# save the column names for saving the top10 features later on\n",
    "colNames = X.columns"
   ]
  },
  {
   "cell_type": "markdown",
   "metadata": {},
   "source": [
    "Rescaling the predictor values to the same scale to avoid different weighting of importance for the model later on."
   ]
  },
  {
   "cell_type": "code",
   "execution_count": 91,
   "metadata": {},
   "outputs": [],
   "source": [
    "# rescale predictors\n",
    "scaler = StandardScaler()\n",
    "X = scaler.fit_transform(X.astype(float)) #change type to float for rescaling"
   ]
  },
  {
   "cell_type": "markdown",
   "metadata": {},
   "source": [
    "### Ordinal multiclass logistic regression\n",
    "\n",
    "Since the predicted variable in our case is ordinal multicalss data, we can solve the ordinal multiclass logistic regression as a series of binary classification:\n",
    "\n",
    "We can take advantage of the ordered class value by transforming a k-class ordinal regression problem to a k-1 binary classification problem by convert an ordinal attribute A* with ordinal value V1, V2, V3, … Vk into k-1 binary attributes, one for each of the original attribute’s first k − 1 values. The ith binary attribute represents the test A* > Vi [1]\n",
    "\n",
    "e.g.,\n",
    "1. binary target is 1 if salary > 1, so the classifier will predict Pr(salary > 1)\n",
    "2. binary target is 1 if salary > 2, so the classifier will predict Pr(salary > 2)\n",
    "3. binary target is 1 if salary > 3, so the classifier will predict Pr(salary > 3)\n",
    "4. binary target is 1 if salary > 4, so the classifier will predict Pr(salary > 4)\n",
    "...\n",
    "etc\n",
    "\n",
    "Then, to calculate probability of belonging to each salary bucket:\n",
    "\n",
    "Pr(y=1) = 1-Pr(salary > 1)\n",
    "\n",
    "Pr(y=2) = Pr(salary > 1)-P(salary > 2)\n",
    "\n",
    "Pr(y=3) = Pr(salary > 2)-P(salary > 3)\n",
    "\n",
    "Pr(y=4) = Pr(salary > 3)-P(salary > 4)\n",
    "...\n",
    "etc\n",
    "\n",
    "Code adapted from: https://towardsdatascience.com/simple-trick-to-train-an-ordinal-regression-with-any-classifier-6911183d2a3c\n"
   ]
  },
  {
   "cell_type": "code",
   "execution_count": 92,
   "metadata": {},
   "outputs": [],
   "source": [
    "# define a class to solve ordinal multiclass logistic regression as a series of binary classification.\n",
    "\n",
    "from sklearn.base import clone\n",
    "\n",
    "class OrdinalClassifier():\n",
    "    \n",
    "    # The parameter that defines our OrdinalClassifier is\n",
    "    # clf: any sklearn classifier that implements predict_proba method in it\n",
    "    \n",
    "    def __init__(self, clf):\n",
    "        self.clf = clf\n",
    "        self.clfs = {}\n",
    "    \n",
    "    def fit(self, X, y):\n",
    "        self.unique_class = np.sort(np.unique(y))\n",
    "        if self.unique_class.shape[0] > 2:\n",
    "            for i in range(self.unique_class.shape[0]-1):\n",
    "                # for each k - 1 ordinal value we fit a binary classification problem\n",
    "                binary_y = (y > self.unique_class[i]).astype(np.uint8)\n",
    "                clf = clone(self.clf)\n",
    "                clf.fit(X, binary_y)\n",
    "                self.clfs[i] = clf\n",
    "    \n",
    "    def predict_proba(self, X):\n",
    "        clfs_predict = {k:self.clfs[k].predict_proba(X) for k in self.clfs}\n",
    "        predicted = []\n",
    "        for i,y in enumerate(self.unique_class):\n",
    "            if i == 0:\n",
    "                # V1 = 1 - Pr(y > V1)\n",
    "                predicted.append(1 - clfs_predict[y][:,1])\n",
    "            elif y in clfs_predict:\n",
    "                # Vi = Pr(y > Vi-1) - Pr(y > Vi)\n",
    "                 predicted.append(clfs_predict[y-1][:,1] - clfs_predict[y][:,1])\n",
    "            else:\n",
    "                # Vk = Pr(y > Vk-1)\n",
    "                predicted.append(clfs_predict[y-1][:,1])\n",
    "        return np.vstack(predicted).T\n",
    "    \n",
    "    def predict(self, X):\n",
    "        return np.argmax(self.predict_proba(X), axis=1)"
   ]
  },
  {
   "cell_type": "code",
   "execution_count": 95,
   "metadata": {},
   "outputs": [],
   "source": [
    "# specify the OrdinalClassifier to take logistic regression as its classifier\n",
    "model = OrdinalClassifier(LogisticRegression(solver = 'liblinear', multi_class = 'ovr'))"
   ]
  },
  {
   "cell_type": "code",
   "execution_count": 96,
   "metadata": {},
   "outputs": [
    {
     "data": {
      "text/plain": [
       "Index(['Q1', 'Q6', 'Q7', 'Q11', 'Q15', 'world_region_Asia_CSAmerica_Africa',\n",
       "       'world_region_Europe_MidEast', 'world_region_NAmerica_Oceania',\n",
       "       'Q5_Data Analyst', 'Q8_No'],\n",
       "      dtype='object')"
      ]
     },
     "execution_count": 96,
     "metadata": {},
     "output_type": "execute_result"
    }
   ],
   "source": [
    "rfe = RFE(model.clf,n_features_to_select=10)\n",
    "fit = rfe.fit(X, Y)\n",
    "Top10 = colNames[fit.ranking_ == 1]\n",
    "Top10"
   ]
  },
  {
   "cell_type": "code",
   "execution_count": 97,
   "metadata": {},
   "outputs": [],
   "source": [
    "# extract the top10 features as predictors\n",
    "X_selected = df[Top10]"
   ]
  },
  {
   "cell_type": "code",
   "execution_count": 98,
   "metadata": {},
   "outputs": [],
   "source": [
    "# take values and rescale selected predictors\n",
    "X = scaler.fit_transform(X_selected.values.astype(float))\n",
    "Y = Y.values"
   ]
  },
  {
   "cell_type": "code",
   "execution_count": 99,
   "metadata": {},
   "outputs": [],
   "source": [
    "# spliting the predicted and predictor variables into training and test sets\n",
    "X_train, X_test, y_train, y_test = train_test_split(X, Y, random_state=245, test_size=0.3)"
   ]
  },
  {
   "cell_type": "code",
   "execution_count": 100,
   "metadata": {},
   "outputs": [],
   "source": [
    "# fit the training model using the selected features\n",
    "model.fit(X_train, y_train)"
   ]
  },
  {
   "cell_type": "code",
   "execution_count": 101,
   "metadata": {},
   "outputs": [],
   "source": [
    "predictions = model.predict(X_test)"
   ]
  },
  {
   "cell_type": "code",
   "execution_count": 102,
   "metadata": {},
   "outputs": [],
   "source": [
    "from sklearn.metrics import confusion_matrix, classification_report, accuracy_score\n",
    "#from sklearn.metrics import classification_report"
   ]
  },
  {
   "cell_type": "code",
   "execution_count": 103,
   "metadata": {},
   "outputs": [
    {
     "name": "stdout",
     "output_type": "stream",
     "text": [
      "Confusion Matrix\n",
      "\n",
      "[[846   1   0   2  11  26   2   4   0   0  29   1   3   0   0]\n",
      " [292   0   1   6   5  10   0   1   0   0  10   0   1   0   0]\n",
      " [212   1   0   2  14  15   0   0   0   0   8   0   0   0   0]\n",
      " [131   2   2   4  16  17   1   2   0   0   9   1   1   0   0]\n",
      " [119   5   1   2  10  19   3   2   0   0  25   1   0   0   0]\n",
      " [117   0   0   0  12  24   1   6   1   0  30   1   2   0   0]\n",
      " [ 63   1   0   4  14  16   0   9   1   0  47   3   1   0   0]\n",
      " [ 64   1   0   5  10  10   1   5   0   0  46   2  10   0   0]\n",
      " [ 33   0   4   1   7   6   1   4   1   1  38   2   3   0   0]\n",
      " [ 21   0   1   0   7   6   0   3   1   0  39   3   5   0   1]\n",
      " [ 43   0   0   0   2  13   1   7   1   0  85   8  24   0   0]\n",
      " [ 20   0   0   2   3   8   0   4   0   0  65   5  29   0   0]\n",
      " [  8   0   0   0   4   5   0   0   0   0  50  11  31   0   2]\n",
      " [  6   0   0   0   1   0   0   0   0   0  16   2  15   0   2]\n",
      " [ 12   0   1   0   1   2   0   0   0   0  16   2  28   0   2]]\n"
     ]
    }
   ],
   "source": [
    "# look at the confusion matrix\n",
    "print('Confusion Matrix\\n')\n",
    "print(confusion_matrix(y_test,predictions))"
   ]
  },
  {
   "cell_type": "code",
   "execution_count": 104,
   "metadata": {},
   "outputs": [
    {
     "data": {
      "text/plain": [
       "0.3259330759330759"
      ]
     },
     "execution_count": 104,
     "metadata": {},
     "output_type": "execute_result"
    }
   ],
   "source": [
    "# look at accuracy\n",
    "accuracy_score(y_test,predictions)"
   ]
  },
  {
   "cell_type": "markdown",
   "metadata": {},
   "source": [
    "The model trained on training set has a very low accuracy at about 32.59% on the test set."
   ]
  },
  {
   "cell_type": "code",
   "execution_count": 105,
   "metadata": {},
   "outputs": [
    {
     "name": "stdout",
     "output_type": "stream",
     "text": [
      "              precision    recall  f1-score   support\n",
      "\n",
      "           0       0.43      0.91      0.58       925\n",
      "           1       0.00      0.00      0.00       326\n",
      "           2       0.00      0.00      0.00       252\n",
      "           3       0.14      0.02      0.04       186\n",
      "           4       0.09      0.05      0.07       187\n",
      "           5       0.14      0.12      0.13       194\n",
      "           6       0.00      0.00      0.00       159\n",
      "           7       0.11      0.03      0.05       154\n",
      "           8       0.20      0.01      0.02       101\n",
      "           9       0.00      0.00      0.00        87\n",
      "          10       0.17      0.46      0.24       184\n",
      "          11       0.12      0.04      0.06       136\n",
      "          12       0.20      0.28      0.23       111\n",
      "          13       0.00      0.00      0.00        42\n",
      "          14       0.29      0.03      0.06        64\n",
      "\n",
      "   micro avg       0.33      0.33      0.33      3108\n",
      "   macro avg       0.12      0.13      0.10      3108\n",
      "weighted avg       0.19      0.33      0.22      3108\n",
      "\n"
     ]
    },
    {
     "name": "stderr",
     "output_type": "stream",
     "text": [
      "/home/jupyterlab/conda/envs/python/lib/python3.6/site-packages/sklearn/metrics/classification.py:1143: UndefinedMetricWarning: Precision and F-score are ill-defined and being set to 0.0 in labels with no predicted samples.\n",
      "  'precision', 'predicted', average, warn_for)\n"
     ]
    }
   ],
   "source": [
    "# take a look at other performance measures of the trained model on test set\n",
    "target_classes = ['0','1','2','3','4','5','6','7','8','9','10','11','12','13','14']\n",
    "print(classification_report(y_test,predictions,target_names = target_classes))"
   ]
  },
  {
   "cell_type": "markdown",
   "metadata": {},
   "source": [
    "Using the hold-out method of model training on the selected variables, we got an accuracy of around 18.79% on the test set. Now we can change the model training method to cross-validation and see if we can improve our model to have higher accuracy on predicting the test set."
   ]
  },
  {
   "cell_type": "markdown",
   "metadata": {},
   "source": [
    "# (3,4) Model Implementation and Model Tuning"
   ]
  },
  {
   "cell_type": "code",
   "execution_count": 106,
   "metadata": {},
   "outputs": [
    {
     "name": "stdout",
     "output_type": "stream",
     "text": [
      "Fold 1: Accuracy: 0.284%\n",
      "Fold 2: Accuracy: 0.325%\n",
      "Fold 3: Accuracy: 0.338%\n",
      "Fold 4: Accuracy: 0.316%\n",
      "Fold 5: Accuracy: 0.319%\n",
      "Fold 6: Accuracy: 0.366%\n",
      "Fold 7: Accuracy: 0.34%\n",
      "Fold 8: Accuracy: 0.337%\n",
      "Fold 9: Accuracy: 0.402%\n",
      "Fold 10: Accuracy: 0.388%\n",
      "Average Score: 34.142%(3.357%)\n"
     ]
    }
   ],
   "source": [
    "## cross-validation on the training data.\n",
    "## For each fold, a different subfold of the training data will be assigned as the test set for model accuracy calculation\n",
    "model = OrdinalClassifier(LogisticRegression(solver = 'liblinear', multi_class = 'ovr'))\n",
    "kfold = KFold(n_splits=10)\n",
    "kfold.get_n_splits(X_selected)\n",
    "\n",
    "accuracy = np.zeros(10)\n",
    "np_idx = 0\n",
    "\n",
    "\n",
    "for train_idx, test_idx in kfold.split(X_selected):\n",
    "    np_idx = np_idx + 1\n",
    "    \n",
    "    # In each fold, the test set would be a different subset of the training set\n",
    "    X_train, X_test = X_selected.values[train_idx], X_selected.values[test_idx]\n",
    "    y_train, y_test = Y[train_idx], Y[test_idx]  # Y has already taken values\n",
    "    \n",
    "    X_train = scaler.fit_transform(X_train.astype(float))  # change type to float for rescaling\n",
    "    X_test = scaler.transform(X_test.astype(float))\n",
    "    \n",
    "    model.fit(X_train, y_train)\n",
    "\n",
    "    pred = model.predict(X_test)\n",
    "    \n",
    "    ACC = accuracy_score(y_test,pred)\n",
    "\n",
    "    print (\"Fold {}: Accuracy: {}%\".format(np_idx,round(ACC,3)))\n",
    "    \n",
    "    accuracy[np_idx-1] = ACC*100\n",
    "    \n",
    "print (\"Average Score: {}%({}%)\".format(round(np.mean(accuracy),3),round(np.std(accuracy),3)))"
   ]
  },
  {
   "cell_type": "markdown",
   "metadata": {},
   "source": [
    "We can see that using cross-validation on the training set improves the accuracy from the holdout method to 34.142% on average. To optimize the model, we will next do hyperparameter tuning through a grid search process to find the best combination of hyperparameters that gives the highest accuracy rate as the optimal model."
   ]
  },
  {
   "cell_type": "code",
   "execution_count": 117,
   "metadata": {},
   "outputs": [],
   "source": [
    "## THIS CHUNK TAKES TIME\n",
    "## RESULTS PRINTED AS MARKDOWN TEXT AND HARD-CODED BELOW\n",
    "#### This chunk runs for about 11 mins ####\n",
    "# Grid search with cv\n",
    "\n",
    "#model = OrdinalClassifier(LogisticRegression(solver = 'liblinear', multi_class = 'ovr'))\n",
    "#kfold = KFold(n_splits=10)\n",
    "#kfold.get_n_splits(X_selected)\n",
    "\n",
    "#best_model = model\n",
    "#best_params = {}\n",
    "#best_accuracy = 0\n",
    "#best_std = 0\n",
    "\n",
    "#i = 0\n",
    "\n",
    "#train_mean_acc = np.zeros(14)\n",
    "#test_mean_acc = np.zeros(14)\n",
    "#rain_mean_std = np.zeros(14)\n",
    "#test_mean_std = np.zeros(14)\n",
    "#train_mean_err = np.zeros(14)\n",
    "#test_mean_err = np.zeros(14)\n",
    "\n",
    "# sepecify the candidate hyperparameters for tuning\n",
    "# loop through hyperparameter combinations\n",
    "#for C in [0.001, 0.01, 0.1, 1, 10, 100, 1000]:\n",
    "#    for penalty in ['l1','l2']:\n",
    "\n",
    "        # update model hyperparameter for each loop\n",
    "#        model = OrdinalClassifier(LogisticRegression(solver = 'liblinear', multi_class = 'ovr', C=C, penalty=penalty))\n",
    "#        train_acc_list = np.zeros(10)\n",
    "#        test_acc_list = np.zeros(10)\n",
    "#        train_err_list = np.zeros(10)\n",
    "#        test_err_list = np.zeros(10)\n",
    "    \n",
    "        \n",
    "#        np_idx = 0\n",
    "        \n",
    "        # loop through cv folds\n",
    "#        for train_idx, test_idx in kfold.split(X_selected):\n",
    "#            X_train, X_test = X_selected.values[train_idx], X_selected.values[test_idx]\n",
    "#            y_train, y_test = Y[train_idx], Y[test_idx]\n",
    "\n",
    "#            X_train = scaler.fit_transform(X_train.astype(float))\n",
    "#            X_test = scaler.transform(X_test.astype(float))\n",
    "\n",
    "#            model.fit(X_train, y_train)\n",
    "            \n",
    "            # take accuracy of each fold\n",
    "#            train_acc_list[np_idx] = accuracy_score(y_train,model.predict(X_train))\n",
    "#            test_acc_list[np_idx] = accuracy_score(y_test,model.predict(X_test))\n",
    "            \n",
    "            # take prediction error of each fold\n",
    "#            train_err_list[np_idx] = mean_squared_error(y_train,model.predict(X_train))\n",
    "#            test_err_list[np_idx] = mean_squared_error(y_test,model.predict(X_test))\n",
    "            \n",
    "#            np_idx += 1\n",
    "            \n",
    "            \n",
    "        # take mean accuracy and error aross all cv folds under each hyperparameter combination loop\n",
    "#        train_mean_acc[i] = np.mean(train_acc_list)\n",
    "#        test_mean_acc[i] = np.mean(test_acc_list)\n",
    "#        train_mean_std[i] = np.std(train_acc_list)\n",
    "#        test_mean_std[i] = np.std(test_acc_list)\n",
    "#        train_mean_err[i] = np.mean(train_err_list)\n",
    "#        test_mean_err[i] = np.mean(test_err_list)\n",
    "            \n",
    "#        i += 1\n",
    "        \n",
    "#        if np.mean(test_acc_list) > best_accuracy:\n",
    "#            best_model = model\n",
    "#            best_params = {'C':C, 'penalty': penalty}\n",
    "#            best_accuracy = np.mean(test_acc_list)  # the higher the accuracy: the higher the variance, the lower the bias\n",
    "#            best_std = np.std(test_acc_list)  # the higher the std: the higher the variance, the lower the bias\n",
    "            \n",
    "#print (best_params)\n",
    "#print (\"Best Score: {}%({}%)\".format(round(best_accuracy*100,3),round(best_std*100,3)))      \n",
    "\n",
    "#print (\"\\nThe optimal model uses C={}, and a {} penalty, and has a cross validation score of {}% with a standard deviation of {}%\".format(best_params['C'],best_params['penalty'],round(best_accuracy*100,3),round(best_std*100,3)))"
   ]
  },
  {
   "cell_type": "markdown",
   "metadata": {},
   "source": [
    "Printed results:\n",
    "\n",
    "{'C': 0.1, 'penalty': 'l2'}\n",
    "Best Score: 34.557%(3.403%)\n",
    "\n",
    "The optimal model uses C=0.1, and a l2 penalty, and has a cross validation score of 34.557% with a standard deviation of 3.403%\n",
    "\n",
    "After finding the optimal model through hyperparameter tuning, we got an accuracy of around 34.152% and std of 3.32% with the optimal model using C=0.1 and a l2 penalty.\n",
    "\n",
    "The next step will discuss why is the optimal model optimal from the angle of bias-variance trade-off under different hyperparameters C."
   ]
  },
  {
   "cell_type": "markdown",
   "metadata": {},
   "source": [
    "### Bias-Variance trade-off justification of the optimal model"
   ]
  },
  {
   "cell_type": "code",
   "execution_count": 108,
   "metadata": {},
   "outputs": [],
   "source": [
    "## THIS CHUNK RELIES ON OUTPUT FROM THE ABOVE TIME-CONSUMING CV FOR LOOPS\n",
    "## HARD-CODED IN THE NEXT CHUNK\n",
    "\n",
    "# since the optimal penalty is l2, only take the measures resulting from l2 penalty over all C candidates\n",
    "#l2_ind = [1,3,5,7,9,11,13]\n",
    "\n",
    "#C = pd.DataFrame([0.001, 0.01, 0.1, 1, 10, 100, 1000], columns = ['C'])\n",
    "#train_accuracy = pd.DataFrame(train_mean_acc[l2_ind],columns = ['train_accuracy'])\n",
    "#test_accuracy = pd.DataFrame(test_mean_acc[l2_ind], columns = ['test_accuracy'])\n",
    "#train_std = pd.DataFrame(train_mean_std[l2_ind], columns = ['train_std'])\n",
    "#test_std = pd.DataFrame(test_mean_std[l2_ind], columns = ['test_std'])\n",
    "#train_MSE = pd.DataFrame(train_mean_err[l2_ind], columns = ['train_MSE'])\n",
    "#test_MSE = pd.DataFrame(test_mean_err[l2_ind], columns = ['test_MSE'])\n",
    "\n",
    "# concat all measures into one df\n",
    "#result_df = pd.concat([C, train_accuracy,test_accuracy,train_std,test_std,train_MSE,test_MSE], axis=1, sort=False)"
   ]
  },
  {
   "cell_type": "code",
   "execution_count": 118,
   "metadata": {},
   "outputs": [],
   "source": [
    "## Hard-code the hyperparameter tuning cv results\n",
    "C = pd.DataFrame([0.001, 0.01, 0.1, 1, 10, 100, 1000], columns = ['C'])\n",
    "train_accuracy = pd.DataFrame([0.307178,0.342420,0.344952,0.345070,0.344834,0.344780,0.344780],columns = ['train_accuracy'])\n",
    "test_accuracy = pd.DataFrame([0.307056,0.340071,0.341518,0.341422,0.341035,0.341132,0.341132], columns = ['test_accuracy'])\n",
    "train_std = pd.DataFrame([0.005014,0.003764,0.003204,0.003129,0.003114,0.003148,0.003148], columns = ['train_std'])\n",
    "test_std = pd.DataFrame([0.045629,0.034577,0.033201,0.033570,0.034093,0.034047,0.034047], columns = ['test_std'])\n",
    "train_MSE = pd.DataFrame([23.353986,14.264396,13.179044,13.047978,13.027981,13.024473,13.024473], columns = ['train_MSE'])\n",
    "test_MSE = pd.DataFrame([23.314272,14.227094,13.250369,13.087100,13.063629,13.055127,13.055127], columns = ['test_MSE'])\n",
    "\n",
    "# concat all measures into one df\n",
    "result_df = pd.concat([C, train_accuracy,test_accuracy,train_std,test_std,train_MSE,test_MSE], axis=1, sort=False)"
   ]
  },
  {
   "cell_type": "code",
   "execution_count": 119,
   "metadata": {},
   "outputs": [
    {
     "data": {
      "text/html": [
       "<div>\n",
       "<style scoped>\n",
       "    .dataframe tbody tr th:only-of-type {\n",
       "        vertical-align: middle;\n",
       "    }\n",
       "\n",
       "    .dataframe tbody tr th {\n",
       "        vertical-align: top;\n",
       "    }\n",
       "\n",
       "    .dataframe thead th {\n",
       "        text-align: right;\n",
       "    }\n",
       "</style>\n",
       "<table border=\"1\" class=\"dataframe\">\n",
       "  <thead>\n",
       "    <tr style=\"text-align: right;\">\n",
       "      <th></th>\n",
       "      <th>C</th>\n",
       "      <th>train_accuracy</th>\n",
       "      <th>test_accuracy</th>\n",
       "      <th>train_std</th>\n",
       "      <th>test_std</th>\n",
       "      <th>train_MSE</th>\n",
       "      <th>test_MSE</th>\n",
       "    </tr>\n",
       "  </thead>\n",
       "  <tbody>\n",
       "    <tr>\n",
       "      <th>0</th>\n",
       "      <td>0.001</td>\n",
       "      <td>0.307178</td>\n",
       "      <td>0.307056</td>\n",
       "      <td>0.005014</td>\n",
       "      <td>0.045629</td>\n",
       "      <td>23.353986</td>\n",
       "      <td>23.314272</td>\n",
       "    </tr>\n",
       "    <tr>\n",
       "      <th>1</th>\n",
       "      <td>0.010</td>\n",
       "      <td>0.342420</td>\n",
       "      <td>0.340071</td>\n",
       "      <td>0.003764</td>\n",
       "      <td>0.034577</td>\n",
       "      <td>14.264396</td>\n",
       "      <td>14.227094</td>\n",
       "    </tr>\n",
       "    <tr>\n",
       "      <th>2</th>\n",
       "      <td>0.100</td>\n",
       "      <td>0.344952</td>\n",
       "      <td>0.341518</td>\n",
       "      <td>0.003204</td>\n",
       "      <td>0.033201</td>\n",
       "      <td>13.179044</td>\n",
       "      <td>13.250369</td>\n",
       "    </tr>\n",
       "    <tr>\n",
       "      <th>3</th>\n",
       "      <td>1.000</td>\n",
       "      <td>0.345070</td>\n",
       "      <td>0.341422</td>\n",
       "      <td>0.003129</td>\n",
       "      <td>0.033570</td>\n",
       "      <td>13.047978</td>\n",
       "      <td>13.087100</td>\n",
       "    </tr>\n",
       "    <tr>\n",
       "      <th>4</th>\n",
       "      <td>10.000</td>\n",
       "      <td>0.344834</td>\n",
       "      <td>0.341035</td>\n",
       "      <td>0.003114</td>\n",
       "      <td>0.034093</td>\n",
       "      <td>13.027981</td>\n",
       "      <td>13.063629</td>\n",
       "    </tr>\n",
       "    <tr>\n",
       "      <th>5</th>\n",
       "      <td>100.000</td>\n",
       "      <td>0.344780</td>\n",
       "      <td>0.341132</td>\n",
       "      <td>0.003148</td>\n",
       "      <td>0.034047</td>\n",
       "      <td>13.024473</td>\n",
       "      <td>13.055127</td>\n",
       "    </tr>\n",
       "    <tr>\n",
       "      <th>6</th>\n",
       "      <td>1000.000</td>\n",
       "      <td>0.344780</td>\n",
       "      <td>0.341132</td>\n",
       "      <td>0.003148</td>\n",
       "      <td>0.034047</td>\n",
       "      <td>13.024473</td>\n",
       "      <td>13.055127</td>\n",
       "    </tr>\n",
       "  </tbody>\n",
       "</table>\n",
       "</div>"
      ],
      "text/plain": [
       "          C  train_accuracy  test_accuracy  train_std  test_std  train_MSE  \\\n",
       "0     0.001        0.307178       0.307056   0.005014  0.045629  23.353986   \n",
       "1     0.010        0.342420       0.340071   0.003764  0.034577  14.264396   \n",
       "2     0.100        0.344952       0.341518   0.003204  0.033201  13.179044   \n",
       "3     1.000        0.345070       0.341422   0.003129  0.033570  13.047978   \n",
       "4    10.000        0.344834       0.341035   0.003114  0.034093  13.027981   \n",
       "5   100.000        0.344780       0.341132   0.003148  0.034047  13.024473   \n",
       "6  1000.000        0.344780       0.341132   0.003148  0.034047  13.024473   \n",
       "\n",
       "    test_MSE  \n",
       "0  23.314272  \n",
       "1  14.227094  \n",
       "2  13.250369  \n",
       "3  13.087100  \n",
       "4  13.063629  \n",
       "5  13.055127  \n",
       "6  13.055127  "
      ]
     },
     "execution_count": 119,
     "metadata": {},
     "output_type": "execute_result"
    }
   ],
   "source": [
    "result_df"
   ]
  },
  {
   "cell_type": "code",
   "execution_count": 120,
   "metadata": {},
   "outputs": [
    {
     "data": {
      "image/png": "[encoded data removed]",
      "text/plain": [
       "<Figure size 432x288 with 1 Axes>"
      ]
     },
     "metadata": {
      "needs_background": "light"
     },
     "output_type": "display_data"
    },
    {
     "data": {
      "image/png": "[encoded data removed]",
      "text/plain": [
       "<Figure size 432x288 with 1 Axes>"
      ]
     },
     "metadata": {
      "needs_background": "light"
     },
     "output_type": "display_data"
    }
   ],
   "source": [
    "# plot test and train accuracy changes with C\n",
    "plot1 = result_df.plot(x=\"C\", y=[\"train_accuracy\", \"test_accuracy\"],  logx=True, title = 'Test and Train Accuracy Under Different Hyperprameters')\n",
    "plot1.set_xlabel('C')\n",
    "plot1.set_ylabel('Accuracy')\n",
    "plt.show()\n",
    "\n",
    "# plot test std changes with C\n",
    "plot2 = result_df.plot(x=\"C\", y=[\"test_std\"],  logx=True, title = 'Standard Deviation Under Different Hyperparameters')\n",
    "plot2.set_xlabel('C')\n",
    "plot2.set_ylabel('std')\n",
    "plt.show()"
   ]
  },
  {
   "cell_type": "markdown",
   "metadata": {},
   "source": [
    "When hyperparameter C increases, the model accuracy on training set increases. On the other hand, the model accuracy on the test set first increases and then descreases, with the **highest accuracy shows up at C=0.1**.\n",
    "\n",
    "As shown in the result of hyperparameter tuning, hyperparameter combination that results in the optimal model is l2 penalty and C = 0.1, giving an accuracy of about 34.557% and a standard deviation of 3.403.\n",
    "\n",
    "**(1) If C increases from 0.1, variance increases and the accuracy on training set increases but the accuracy on test set decreases.**\n",
    "\n",
    "This means that the model would overfit to the training set and would not generalize well onto the test set.\n",
    "\n",
    "**(2) If C decreases from 0.1, variance increases but the accuracy rates on both trainging and test set decrease.**\n",
    "\n",
    "This means that the model would underfit the data, generating an ill-performed model that gives higher mean squared error and lower accuracy on new dataset.\n",
    "\n",
    "Therefore, from the accuracy and standard deviation plots, changes in bias-variance trade-off can be discussed at different hyperparameters C. In conclusion, the optimal model we derived selected the best point of hyperparameter C=0.1.\n"
   ]
  },
  {
   "cell_type": "markdown",
   "metadata": {},
   "source": [
    "# (5) Testing & Discussion"
   ]
  },
  {
   "cell_type": "code",
   "execution_count": 121,
   "metadata": {},
   "outputs": [
    {
     "name": "stdout",
     "output_type": "stream",
     "text": [
      "\n",
      "Train Accuracy: 35.33%\n",
      "\n",
      "\n",
      "Test Accuracy: 32.63%\n",
      "\n",
      "\n",
      "Train MSE: 12.91\n",
      "\n",
      "\n",
      "Test MSE: 13.92\n",
      "\n"
     ]
    }
   ],
   "source": [
    "## use the optimal model to predict training and test sets\n",
    "# the optimal model\n",
    "model = OrdinalClassifier(LogisticRegression(solver = 'liblinear', multi_class = 'ovr', C = 0.1, penalty = 'l2'))\n",
    "\n",
    "# fit to train set and compare the accuracy between train and test set preidctions\n",
    "X_train, X_test, y_train, y_test = train_test_split(X_selected, Y, test_size=0.3, random_state=245)\n",
    "model.fit(X_train, y_train)\n",
    "train_pred = model.predict(X_train)\n",
    "test_pred = model.predict(X_test)\n",
    "\n",
    "# accuracy \n",
    "print('\\nTrain Accuracy: {:.2f}%\\n'.format(accuracy_score(y_train,train_pred)*100))\n",
    "print('\\nTest Accuracy: {:.2f}%\\n'.format(accuracy_score(y_test,test_pred)*100))\n",
    "\n",
    "# mean squred error\n",
    "print('\\nTrain MSE: {:.2f}\\n'.format(mean_squared_error(y_train,train_pred)))\n",
    "print('\\nTest MSE: {:.2f}\\n'.format(mean_squared_error(y_test,test_pred)))\n",
    "\n",
    "#print('\\nTrain Classification Report\\n')\n",
    "#print(classification_report(y_train, train_pred, target_names=target_classes))\n",
    "\n",
    "#print('\\nTest Classification Report\\n')\n",
    "#print(classification_report(y_test, test_pred, target_names=target_classes))\n",
    "\n"
   ]
  },
  {
   "cell_type": "code",
   "execution_count": 113,
   "metadata": {},
   "outputs": [
    {
     "data": {
      "text/html": [
       "<div>\n",
       "<style scoped>\n",
       "    .dataframe tbody tr th:only-of-type {\n",
       "        vertical-align: middle;\n",
       "    }\n",
       "\n",
       "    .dataframe tbody tr th {\n",
       "        vertical-align: top;\n",
       "    }\n",
       "\n",
       "    .dataframe thead th {\n",
       "        text-align: right;\n",
       "    }\n",
       "</style>\n",
       "<table border=\"1\" class=\"dataframe\">\n",
       "  <thead>\n",
       "    <tr style=\"text-align: right;\">\n",
       "      <th></th>\n",
       "      <th>C</th>\n",
       "      <th>train_accuracy</th>\n",
       "      <th>test_accuracy</th>\n",
       "      <th>train_std</th>\n",
       "      <th>test_std</th>\n",
       "      <th>train_MSE</th>\n",
       "      <th>test_MSE</th>\n",
       "    </tr>\n",
       "  </thead>\n",
       "  <tbody>\n",
       "    <tr>\n",
       "      <th>0</th>\n",
       "      <td>0.001</td>\n",
       "      <td>0.307178</td>\n",
       "      <td>0.307056</td>\n",
       "      <td>0.005014</td>\n",
       "      <td>0.045629</td>\n",
       "      <td>23.353986</td>\n",
       "      <td>23.314272</td>\n",
       "    </tr>\n",
       "    <tr>\n",
       "      <th>1</th>\n",
       "      <td>0.010</td>\n",
       "      <td>0.342420</td>\n",
       "      <td>0.340071</td>\n",
       "      <td>0.003764</td>\n",
       "      <td>0.034577</td>\n",
       "      <td>14.264396</td>\n",
       "      <td>14.227094</td>\n",
       "    </tr>\n",
       "    <tr>\n",
       "      <th>2</th>\n",
       "      <td>0.100</td>\n",
       "      <td>0.344952</td>\n",
       "      <td>0.341518</td>\n",
       "      <td>0.003204</td>\n",
       "      <td>0.033201</td>\n",
       "      <td>13.179044</td>\n",
       "      <td>13.250369</td>\n",
       "    </tr>\n",
       "    <tr>\n",
       "      <th>3</th>\n",
       "      <td>1.000</td>\n",
       "      <td>0.345070</td>\n",
       "      <td>0.341422</td>\n",
       "      <td>0.003129</td>\n",
       "      <td>0.033570</td>\n",
       "      <td>13.047978</td>\n",
       "      <td>13.087100</td>\n",
       "    </tr>\n",
       "    <tr>\n",
       "      <th>4</th>\n",
       "      <td>10.000</td>\n",
       "      <td>0.344834</td>\n",
       "      <td>0.341035</td>\n",
       "      <td>0.003114</td>\n",
       "      <td>0.034093</td>\n",
       "      <td>13.027981</td>\n",
       "      <td>13.063629</td>\n",
       "    </tr>\n",
       "    <tr>\n",
       "      <th>5</th>\n",
       "      <td>100.000</td>\n",
       "      <td>0.344780</td>\n",
       "      <td>0.341132</td>\n",
       "      <td>0.003148</td>\n",
       "      <td>0.034047</td>\n",
       "      <td>13.024473</td>\n",
       "      <td>13.055127</td>\n",
       "    </tr>\n",
       "    <tr>\n",
       "      <th>6</th>\n",
       "      <td>1000.000</td>\n",
       "      <td>0.344780</td>\n",
       "      <td>0.341132</td>\n",
       "      <td>0.003148</td>\n",
       "      <td>0.034047</td>\n",
       "      <td>13.024473</td>\n",
       "      <td>13.055127</td>\n",
       "    </tr>\n",
       "  </tbody>\n",
       "</table>\n",
       "</div>"
      ],
      "text/plain": [
       "          C  train_accuracy  test_accuracy  train_std  test_std  train_MSE  \\\n",
       "0     0.001        0.307178       0.307056   0.005014  0.045629  23.353986   \n",
       "1     0.010        0.342420       0.340071   0.003764  0.034577  14.264396   \n",
       "2     0.100        0.344952       0.341518   0.003204  0.033201  13.179044   \n",
       "3     1.000        0.345070       0.341422   0.003129  0.033570  13.047978   \n",
       "4    10.000        0.344834       0.341035   0.003114  0.034093  13.027981   \n",
       "5   100.000        0.344780       0.341132   0.003148  0.034047  13.024473   \n",
       "6  1000.000        0.344780       0.341132   0.003148  0.034047  13.024473   \n",
       "\n",
       "    test_MSE  \n",
       "0  23.314272  \n",
       "1  14.227094  \n",
       "2  13.250369  \n",
       "3  13.087100  \n",
       "4  13.063629  \n",
       "5  13.055127  \n",
       "6  13.055127  "
      ]
     },
     "execution_count": 113,
     "metadata": {},
     "output_type": "execute_result"
    }
   ],
   "source": [
    "result_df"
   ]
  },
  {
   "cell_type": "code",
   "execution_count": 114,
   "metadata": {},
   "outputs": [
    {
     "data": {
      "image/png": "[encoded data removed]",
      "text/plain": [
       "<Figure size 432x288 with 1 Axes>"
      ]
     },
     "metadata": {
      "needs_background": "light"
     },
     "output_type": "display_data"
    }
   ],
   "source": [
    "# plot train and test MSE changes with C\n",
    "plot3 = result_df.plot(x=\"C\", y=[\"train_MSE\",\"test_MSE\"], logx=True, title = 'Train and Test MSE Under Different Hyperprameters')\n",
    "plot3.set_xlabel('C')\n",
    "plot3.set_ylabel('Mean Squared Error')\n",
    "plt.show()"
   ]
  },
  {
   "cell_type": "code",
   "execution_count": 115,
   "metadata": {},
   "outputs": [],
   "source": [
    "def plot_learning_curve(estimator, title, X, y, ylim=None, cv=None, n_jobs=1,\\\n",
    "                        train_sizes=np.linspace(.1, 1.0, 5), scoring='accuracy'):\n",
    "    \n",
    "    plt.figure(figsize=(10,6))\n",
    "    plt.title(title)\n",
    "    \n",
    "    if ylim is not None:\n",
    "        plt.ylim(*ylim)\n",
    "        \n",
    "    plt.xlabel(\"Training examples\")\n",
    "    plt.ylabel(scoring)\n",
    "    \n",
    "    train_sizes, train_scores, test_scores = learning_curve(estimator, X, y, cv=cv, scoring=scoring, n_jobs=n_jobs, train_sizes=train_sizes)\n",
    "    train_scores_mean = np.mean(train_scores, axis=1)\n",
    "    train_scores_std = np.std(train_scores, axis=1)\n",
    "    test_scores_mean = np.mean(test_scores, axis=1)\n",
    "    test_scores_std = np.std(test_scores, axis=1)\n",
    "    \n",
    "    plt.grid()\n",
    "\n",
    "    plt.fill_between(train_sizes, train_scores_mean - train_scores_std,\\\n",
    "                     train_scores_mean + train_scores_std, alpha=0.1, \\\n",
    "                     color=\"r\")\n",
    "    plt.fill_between(train_sizes, test_scores_mean - test_scores_std,\\\n",
    "                     test_scores_mean + test_scores_std, alpha=0.1, color=\"g\")\n",
    "    \n",
    "    plt.plot(train_sizes, train_scores_mean, 'o-', color=\"r\",label=\"Training score\")\n",
    "    plt.plot(train_sizes, test_scores_mean, 'o-', color=\"g\", label=\"Cross-validation score\")\n",
    "    plt.legend(loc=\"best\")\n",
    "    \n",
    "    return plt"
   ]
  },
  {
   "cell_type": "code",
   "execution_count": 116,
   "metadata": {},
   "outputs": [
    {
     "data": {
      "text/plain": [
       "<module 'matplotlib.pyplot' from '/home/jupyterlab/conda/envs/python/lib/python3.6/site-packages/matplotlib/pyplot.py'>"
      ]
     },
     "execution_count": 116,
     "metadata": {},
     "output_type": "execute_result"
    },
    {
     "data": {
      "image/png": "[encoded data removed]",
      "text/plain": [
       "<Figure size 720x432 with 1 Axes>"
      ]
     },
     "metadata": {
      "needs_background": "light"
     },
     "output_type": "display_data"
    }
   ],
   "source": [
    "model = OrdinalClassifier(LogisticRegression(solver = 'liblinear', multi_class = 'ovr', C = 0.1, penalty = 'l2'))\n",
    "\n",
    "plot_learning_curve(model.clf,'Oridnal Classifier', X_selected, Y, cv=10)"
   ]
  },
  {
   "cell_type": "markdown",
   "metadata": {},
   "source": [
    "Judging from how close the train and test accuracy rates and MSE are, it is likely that the optimal model has **high bias** and is **overall underfitted** to the train dataset. This could mean that **the model is not presenting a very accurate or representative picture of the relationship between the inputs and predicted output**. The model may generalize well on test or new datasets in terms of outputing similar prediction accuracy rates as that of the trained dataset.\n",
    "\n",
    "To support the underfitting argument to the model, we can look at the graph above to see how the Train and Test MSE change under different hyperparameter C (indexing model complexity). As discussed previously, training model with C=0.1 gives the highest test set prediction accuracy. However, C=0.1 does not result in the lowest squared error. The MSE of both training and test set acutally continued to decrease untill C=100 and persisted through C=1000. This suggests that the current optimal model is underfitted to the training data since the error is not minimized. The learning curve prediction ploted above also shows evidence the the model is underfitted (with training accuracy even lower than validation set) with the size of our training sample (around 7000 data points). \n",
    "\n",
    "Since the current optimal model has high bias, we may think about fixing the model by increasing model complexity (C), in turn, increase the model variance to trade-off the bias. For example, if we increase C from 0.1 to 1, we can see from the below table that training accuracy acctually increases. However, the improvement on the training set accuracy comes at the cost of the test set accuracy (deviating from the optimal model that output the highest accuracy for prediction on test set.)\n"
   ]
  }
 ],
 "metadata": {
  "kernelspec": {
   "display_name": "Python",
   "language": "python",
   "name": "conda-env-python-py"
  },
  "language_info": {
   "codemirror_mode": {
    "name": "ipython",
    "version": 3
   },
   "file_extension": ".py",
   "mimetype": "text/x-python",
   "name": "python",
   "nbconvert_exporter": "python",
   "pygments_lexer": "ipython3",
   "version": "3.6.11"
  }
 },
 "nbformat": 4,
 "nbformat_minor": 4
}
